{
 "cells": [
  {
   "cell_type": "code",
   "execution_count": 17,
   "metadata": {},
   "outputs": [],
   "source": [
    "#! pip install ipython-sql \n",
    "import sqlite3\n",
    "import pandas as pd\n",
    "from sqlalchemy import *\n",
    "from gradedb import Gradedb\n",
    "from schema import *\n",
    "import matplotlib.pyplot as plt"
   ]
  },
  {
   "cell_type": "code",
   "execution_count": 18,
   "metadata": {},
   "outputs": [
    {
     "name": "stdout",
     "output_type": "stream",
     "text": [
      "The sql extension is already loaded. To reload it, use:\n",
      "  %reload_ext sql\n"
     ]
    }
   ],
   "source": [
    "%load_ext sql\n",
    "%sql sqlite:///gradedb.db\n",
    "engine = create_engine(\"sqlite:///gradedb.db\")"
   ]
  },
  {
   "cell_type": "code",
   "execution_count": 19,
   "metadata": {},
   "outputs": [],
   "source": [
    "Stud_summary = text('''\n",
    "SELECT \n",
    "    stu.universityid,\n",
    "    stu.name AS 'Student Name',\n",
    "    stu.email AS 'Student Email',\n",
    "    COUNT(tk.title) AS 'Number of Assignments',\n",
    "    ROUND(AVG(sc.value),2) AS 'Score'\n",
    "  FROM Student stu\n",
    "  LEFT JOIN Assignment asg ON asg.universityid = stu.universityid\n",
    "  LEfT JOIN Task tk ON tk.taskid = asg.taskid\n",
    "  LEFT JOIN Submission sb ON sb.assignmentid = asg.assignmentid\n",
    "  LEFT JOIN EvaluationRequest er ON er.submissionid = sb.submissionid\n",
    "  LEFT JOIN Evaluation ev ON ev.requestid = er.requestid\n",
    "  LEFT JOIN EvaluationFinished ef ON ef.evaluationid = ev.evaluationid\n",
    "  LEFT JOIN Scores sc ON sc.evaluationid = ev.evaluationid\n",
    "  GROUP BY stu.universityid''')"
   ]
  },
  {
   "cell_type": "code",
   "execution_count": 20,
   "metadata": {},
   "outputs": [
    {
     "data": {
      "text/html": [
       "<div>\n",
       "<style scoped>\n",
       "    .dataframe tbody tr th:only-of-type {\n",
       "        vertical-align: middle;\n",
       "    }\n",
       "\n",
       "    .dataframe tbody tr th {\n",
       "        vertical-align: top;\n",
       "    }\n",
       "\n",
       "    .dataframe thead th {\n",
       "        text-align: right;\n",
       "    }\n",
       "</style>\n",
       "<table border=\"1\" class=\"dataframe\">\n",
       "  <thead>\n",
       "    <tr style=\"text-align: right;\">\n",
       "      <th></th>\n",
       "      <th>universityid</th>\n",
       "      <th>Student Name</th>\n",
       "      <th>Student Email</th>\n",
       "      <th>Number of Assignments</th>\n",
       "      <th>Score</th>\n",
       "    </tr>\n",
       "  </thead>\n",
       "  <tbody>\n",
       "    <tr>\n",
       "      <th>0</th>\n",
       "      <td>S0225853</td>\n",
       "      <td>James Morse</td>\n",
       "      <td>s0225853@vuw.leidenuniv.nl</td>\n",
       "      <td>3</td>\n",
       "      <td>7.00</td>\n",
       "    </tr>\n",
       "    <tr>\n",
       "      <th>1</th>\n",
       "      <td>S0416410</td>\n",
       "      <td>Marjorie Steele</td>\n",
       "      <td>s0416410@vuw.leidenuniv.nl</td>\n",
       "      <td>3</td>\n",
       "      <td>2.67</td>\n",
       "    </tr>\n",
       "    <tr>\n",
       "      <th>2</th>\n",
       "      <td>S1961057</td>\n",
       "      <td>Dominic Robinson</td>\n",
       "      <td>s1961057@vuw.leidenuniv.nl</td>\n",
       "      <td>3</td>\n",
       "      <td>8.00</td>\n",
       "    </tr>\n",
       "    <tr>\n",
       "      <th>3</th>\n",
       "      <td>S2204697</td>\n",
       "      <td>Diana Brown</td>\n",
       "      <td>s2204697@vuw.leidenuniv.nl</td>\n",
       "      <td>3</td>\n",
       "      <td>NaN</td>\n",
       "    </tr>\n",
       "    <tr>\n",
       "      <th>4</th>\n",
       "      <td>S4587398</td>\n",
       "      <td>Mary Bakley</td>\n",
       "      <td>s4587398@vuw.leidenuniv.nl</td>\n",
       "      <td>3</td>\n",
       "      <td>3.00</td>\n",
       "    </tr>\n",
       "  </tbody>\n",
       "</table>\n",
       "</div>"
      ],
      "text/plain": [
       "  universityid      Student Name               Student Email  \\\n",
       "0     S0225853       James Morse  s0225853@vuw.leidenuniv.nl   \n",
       "1     S0416410   Marjorie Steele  s0416410@vuw.leidenuniv.nl   \n",
       "2     S1961057  Dominic Robinson  s1961057@vuw.leidenuniv.nl   \n",
       "3     S2204697       Diana Brown  s2204697@vuw.leidenuniv.nl   \n",
       "4     S4587398       Mary Bakley  s4587398@vuw.leidenuniv.nl   \n",
       "\n",
       "   Number of Assignments  Score  \n",
       "0                      3   7.00  \n",
       "1                      3   2.67  \n",
       "2                      3   8.00  \n",
       "3                      3    NaN  \n",
       "4                      3   3.00  "
      ]
     },
     "execution_count": 20,
     "metadata": {},
     "output_type": "execute_result"
    }
   ],
   "source": [
    "Stud_summ_df = pd.read_sql(Stud_summary, engine)\n",
    "Stud_summ_df"
   ]
  },
  {
   "cell_type": "code",
   "execution_count": 37,
   "metadata": {},
   "outputs": [],
   "source": [
    "def student_summary(StudentUniID):\n",
    "    stud_summary = (Stud_summ_df[Stud_summ_df['universityid']== StudentUniID])\n",
    "    plt.hist(Stud_summ_df['Score'], alpha=0.2,bins=20,color = \"grey\", label='Overall scores')\n",
    "    plt.hist(stud_summary['Score'], alpha=0.5,bins=20,color = \"orange\", label='Your score(s)')\n",
    "    plt.title('Received grades')\n",
    "    plt.ylabel('Amount of people who received this grade')\n",
    "    plt.xlabel('Grade')\n",
    "    plt.xlim(0, 10)\n",
    "    plt.legend()\n",
    "    plt.show()\n",
    "    return(stud_summary)"
   ]
  },
  {
   "cell_type": "code",
   "execution_count": 38,
   "metadata": {},
   "outputs": [
    {
     "data": {
      "image/png": "[encoded data removed]",
      "text/plain": [
       "<Figure size 432x288 with 1 Axes>"
      ]
     },
     "metadata": {
      "needs_background": "light"
     },
     "output_type": "display_data"
    },
    {
     "data": {
      "text/html": [
       "<div>\n",
       "<style scoped>\n",
       "    .dataframe tbody tr th:only-of-type {\n",
       "        vertical-align: middle;\n",
       "    }\n",
       "\n",
       "    .dataframe tbody tr th {\n",
       "        vertical-align: top;\n",
       "    }\n",
       "\n",
       "    .dataframe thead th {\n",
       "        text-align: right;\n",
       "    }\n",
       "</style>\n",
       "<table border=\"1\" class=\"dataframe\">\n",
       "  <thead>\n",
       "    <tr style=\"text-align: right;\">\n",
       "      <th></th>\n",
       "      <th>universityid</th>\n",
       "      <th>Student Name</th>\n",
       "      <th>Student Email</th>\n",
       "      <th>Number of Assignments</th>\n",
       "      <th>Score</th>\n",
       "    </tr>\n",
       "  </thead>\n",
       "  <tbody>\n",
       "    <tr>\n",
       "      <th>2</th>\n",
       "      <td>S1961057</td>\n",
       "      <td>Dominic Robinson</td>\n",
       "      <td>s1961057@vuw.leidenuniv.nl</td>\n",
       "      <td>3</td>\n",
       "      <td>8.0</td>\n",
       "    </tr>\n",
       "  </tbody>\n",
       "</table>\n",
       "</div>"
      ],
      "text/plain": [
       "  universityid      Student Name               Student Email  \\\n",
       "2     S1961057  Dominic Robinson  s1961057@vuw.leidenuniv.nl   \n",
       "\n",
       "   Number of Assignments  Score  \n",
       "2                      3    8.0  "
      ]
     },
     "execution_count": 38,
     "metadata": {},
     "output_type": "execute_result"
    }
   ],
   "source": [
    "student_summary('S1961057')"
   ]
  },
  {
   "cell_type": "code",
   "execution_count": null,
   "metadata": {},
   "outputs": [],
   "source": []
  }
 ],
 "metadata": {
  "interpreter": {
   "hash": "31f2aee4e71d21fbe5cf8b01ff0e069b9275f58929596ceb00d14d90e3e16cd6"
  },
  "kernelspec": {
   "display_name": "Python 3.8.2 64-bit",
   "language": "python",
   "name": "python3"
  },
  "language_info": {
   "codemirror_mode": {
    "name": "ipython",
    "version": 3
   },
   "file_extension": ".py",
   "mimetype": "text/x-python",
   "name": "python",
   "nbconvert_exporter": "python",
   "pygments_lexer": "ipython3",
   "version": "3.9.7"
  },
  "orig_nbformat": 4
 },
 "nbformat": 4,
 "nbformat_minor": 2
}
