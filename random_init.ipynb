{
 "cells": [
  {
   "cell_type": "code",
   "execution_count": 1,
   "metadata": {},
   "outputs": [],
   "source": [
    "#! pip install names\n",
    "#! pip install random_word\n",
    "#! pip install pyyaml\n",
    "from random_word import RandomWords\n",
    "import names\n",
    "import random\n",
    "import string\n",
    "import sys\n",
    "import os\n",
    "sys.path.append(\".\")\n",
    "import numpy as np\n",
    "import curses\n",
    "from gradedb import Gradedb\n",
    "from schema import *"
   ]
  },
  {
   "cell_type": "code",
   "execution_count": 2,
   "metadata": {},
   "outputs": [],
   "source": [
    "t = Gradedb(\"gradedb.db\", False)"
   ]
  },
  {
   "cell_type": "code",
   "execution_count": 3,
   "metadata": {},
   "outputs": [
    {
     "name": "stdout",
     "output_type": "stream",
     "text": [
      "['Marjorie Steele', 'James Morse', 'Dominic Robinson', 'Diana Brown', 'Mary Bakley']\n",
      "['S0416410', 'S0225853', 'S1961057', 'S2204697', 'S4587398']\n",
      "['s0416410@vuw.leidenuniv.nl', 's0225853@vuw.leidenuniv.nl', 's1961057@vuw.leidenuniv.nl', 's2204697@vuw.leidenuniv.nl', 's4587398@vuw.leidenuniv.nl']\n"
     ]
    }
   ],
   "source": [
    "random.seed(123)\n",
    "name = []\n",
    "universityID = []\n",
    "email = []\n",
    "for i in range(5):\n",
    "        digits = \"\".join([random.choice(string.digits) for i in range(7)] )\n",
    "        name.append(names.get_full_name())\n",
    "        universityID.append('S' + digits)\n",
    "        email.append('s' + digits + '@vuw.leidenuniv.nl')\n",
    "print(name)\n",
    "print(universityID)\n",
    "print(email) "
   ]
  },
  {
   "cell_type": "code",
   "execution_count": 4,
   "metadata": {},
   "outputs": [
    {
     "name": "stdout",
     "output_type": "stream",
     "text": [
      "['Question 1', 'Question 2', 'Question 3', 'Question 4', 'Question 5', 'Question 6', 'Question 7', 'Question 8', 'Question 9', 'Question 10', 'Question 11', 'Question 12', 'Question 13', 'Question 14', 'Question 15']\n",
      "['Over waspishness reinvestigating None yearth unsanctionable?', 'Calculate shroud elbow-grease last-name undistractedness None?', 'Calculate best Penobscot River viatic remedial None?', 'Over paleoclimatology posterity nonconceptual None None?', 'Over refunding untenanted disforest eyewash None?', 'How shoshones distaste farmaceutical wastel-bread None?', 'Over viciously for that penumbrous rosied None?', 'Calculate egestive reule torreya burqini None?', \"Calculate biograph to-and-fro bioherms WP'ers None?\", 'How salvos stipples veinlet overwrote None?', 'Where universitie boycotter posteriors fricatives blattering?', 'Where petrosilex oxfords foreshadows glycosylamine None?', 'Over uninstigated pious nitrifiable glossan None?', 'Which addressograph offramp hockles brownest None?', 'How combless quicksands euroization Maxim None?']\n"
     ]
    }
   ],
   "source": [
    "#question function \n",
    "question_title = []\n",
    "question_content = []\n",
    "def question():\n",
    "    First_word = (\"Which\", \"What\", \"Where\", \"How\", \"Over\",  \"Calculate\")\n",
    "    word = random.choice(First_word)\n",
    "    q = str('?')\n",
    "    b = str(' ')\n",
    "    r = RandomWords()\n",
    "    for i in range(5):\n",
    "        v = str(r.get_random_word(hasDictionaryDef=\"true\",minLength=1))\n",
    "        q = (b + v + q)\n",
    "    word = random.choice(First_word)\n",
    "    Question = (word + q)\n",
    "    return(Question)\n",
    "\n",
    "for j in range(15):\n",
    "    question_content.append(question())\n",
    "    question_title.append('Question ' + str(j+1))\n",
    "print(question_title)   \n",
    "print(question_content) "
   ]
  },
  {
   "cell_type": "code",
   "execution_count": 5,
   "metadata": {},
   "outputs": [
    {
     "name": "stdout",
     "output_type": "stream",
     "text": [
      "['Task 688', 'Task 405', 'Task 871', 'Task 980', 'Task 913']\n",
      "['This is task 688, there are multiple questions you need answer.', 'This is task 405, there are multiple questions you need answer.', 'This is task 871, there are multiple questions you need answer.', 'This is task 980, there are multiple questions you need answer.', 'This is task 913, there are multiple questions you need answer.']\n"
     ]
    }
   ],
   "source": [
    "\n",
    "# out: a list of Tasks\n",
    "random.seed(4567)\n",
    "task_title = []\n",
    "task_content = []\n",
    "for i in range(5):\n",
    "    task_number = \"\".join([random.choice(string.digits) for i in range(3)])\n",
    "    task_title.append('Task ' + task_number)\n",
    "    task_content_text = ('This is task ' + task_number + ', there are multiple questions you need answer.')\n",
    "    task_content.append(task_content_text)\n",
    "\n",
    "print(task_title)\n",
    "print(task_content)\n"
   ]
  },
  {
   "cell_type": "code",
   "execution_count": 6,
   "metadata": {},
   "outputs": [
    {
     "name": "stdout",
     "output_type": "stream",
     "text": [
      "['Given Russ red-ink headend mineolas histologically blotchiest cordaites None.', 'Given ordinand LCpl bibliometric reformulating peronospora ostrich-plume bytime None.', 'Given weeness uniformize thick-tongued blackish methe disfavoured peacock-pheasant None.', 'To calculate whiskeys dairying metaling zoösporangium continuants mk-slave-delay staff-sergeant None.', 'Because canty spazzing None unhalesome scazon cafetal tictac trifle.', 'Given Hildegard von Bingen stringer yes reformulations buttfuckers textures Vikings None.', 'To calculate infractions metallike kief dipsacaceae NOFORN colation universitie None.', 'Given pincerlike Sitter the company trans cuspidor missionary intercomprehensible None.', 'Resulting in putry gable-wall Ghibelline tact aerostat lygus reddish-grey None.', 'Given ulfilas virtue-proof spoils vouchee DFC spoken-word compactifies None.', 'Resulting in distillation sunrise nival Mather bloodlike blackshirts peyote None.', 'Resulting in omit None unhungry insetting neurosurgeries rallies customs-duty sumpit.', 'Resulting in disillusionizing clothe triumvirates intoxications inactivating paraheliotropic ringy None.', 'Because electromyography recomputing salvors narg pugaree perversed nonflavored None.', 'Concluding buckwheat shtups meridial solferino achage escry sociopathies None.']\n"
     ]
    }
   ],
   "source": [
    "#answer function \n",
    "answer_content = []\n",
    "def answer():\n",
    "    First_word = (\"Because\", \"In this case\", \"Concluding\", \"Given\", \"Resulting in\",  \"To calculate\")\n",
    "    word = random.choice(First_word)\n",
    "    q = str('.')\n",
    "    b = str(' ')\n",
    "    r = RandomWords()\n",
    "    for i in range(8):\n",
    "        v = str(r.get_random_word(hasDictionaryDef=\"true\",minLength=1))\n",
    "        q = (b + v + q)\n",
    "    word = random.choice(First_word)\n",
    "    Answer = (word + q)\n",
    "    return(Answer)\n",
    "\n",
    "for j in range(15):\n",
    "    answer_content.append(answer())\n",
    "print(answer_content) "
   ]
  },
  {
   "cell_type": "code",
   "execution_count": 7,
   "metadata": {},
   "outputs": [],
   "source": [
    "score=list(range(1,11))"
   ]
  },
  {
   "cell_type": "code",
   "execution_count": 8,
   "metadata": {},
   "outputs": [
    {
     "name": "stdout",
     "output_type": "stream",
     "text": [
      "every name is unique.\n",
      "every idnumber is unique.\n",
      "every task is unique.\n"
     ]
    }
   ],
   "source": [
    "# code to check if the names are unique\n",
    "if(len(set(name)) == len(name)):\n",
    "   print(\"every name is unique.\")\n",
    "else:\n",
    "   print(\"There are copy's, change set.seed\")\n",
    "# code to check if the universityID's are unique\n",
    "if(len(set(universityID)) == len(universityID)):\n",
    "   print(\"every idnumber is unique.\")\n",
    "else:\n",
    "   print(\"There are copy's, change set.seed\")\n",
    "# code to ckeck if the numbers for task are unique\n",
    "if(len(set(task_title)) == len(task_title)):\n",
    "   print(\"every task is unique.\")\n",
    "else:\n",
    "   print(\"There are copy's, change set.seed\")"
   ]
  },
  {
   "cell_type": "code",
   "execution_count": 9,
   "metadata": {},
   "outputs": [
    {
     "name": "stdout",
     "output_type": "stream",
     "text": [
      "['Marjorie Steele', 'James Morse', 'Dominic Robinson', 'Diana Brown', 'Mary Bakley']\n",
      "['S0416410', 'S0225853', 'S1961057', 'S2204697', 'S4587398']\n",
      "['s0416410@vuw.leidenuniv.nl', 's0225853@vuw.leidenuniv.nl', 's1961057@vuw.leidenuniv.nl', 's2204697@vuw.leidenuniv.nl', 's4587398@vuw.leidenuniv.nl']\n",
      "['Question 1', 'Question 2', 'Question 3', 'Question 4', 'Question 5', 'Question 6', 'Question 7', 'Question 8', 'Question 9', 'Question 10', 'Question 11', 'Question 12', 'Question 13', 'Question 14', 'Question 15']\n",
      "['Over waspishness reinvestigating None yearth unsanctionable?', 'Calculate shroud elbow-grease last-name undistractedness None?', 'Calculate best Penobscot River viatic remedial None?', 'Over paleoclimatology posterity nonconceptual None None?', 'Over refunding untenanted disforest eyewash None?', 'How shoshones distaste farmaceutical wastel-bread None?', 'Over viciously for that penumbrous rosied None?', 'Calculate egestive reule torreya burqini None?', \"Calculate biograph to-and-fro bioherms WP'ers None?\", 'How salvos stipples veinlet overwrote None?', 'Where universitie boycotter posteriors fricatives blattering?', 'Where petrosilex oxfords foreshadows glycosylamine None?', 'Over uninstigated pious nitrifiable glossan None?', 'Which addressograph offramp hockles brownest None?', 'How combless quicksands euroization Maxim None?']\n",
      "['Task 688', 'Task 405', 'Task 871', 'Task 980', 'Task 913']\n",
      "['This is task 688, there are multiple questions you need answer.', 'This is task 405, there are multiple questions you need answer.', 'This is task 871, there are multiple questions you need answer.', 'This is task 980, there are multiple questions you need answer.', 'This is task 913, there are multiple questions you need answer.']\n",
      "['Given Russ red-ink headend mineolas histologically blotchiest cordaites None.', 'Given ordinand LCpl bibliometric reformulating peronospora ostrich-plume bytime None.', 'Given weeness uniformize thick-tongued blackish methe disfavoured peacock-pheasant None.', 'To calculate whiskeys dairying metaling zoösporangium continuants mk-slave-delay staff-sergeant None.', 'Because canty spazzing None unhalesome scazon cafetal tictac trifle.', 'Given Hildegard von Bingen stringer yes reformulations buttfuckers textures Vikings None.', 'To calculate infractions metallike kief dipsacaceae NOFORN colation universitie None.', 'Given pincerlike Sitter the company trans cuspidor missionary intercomprehensible None.', 'Resulting in putry gable-wall Ghibelline tact aerostat lygus reddish-grey None.', 'Given ulfilas virtue-proof spoils vouchee DFC spoken-word compactifies None.', 'Resulting in distillation sunrise nival Mather bloodlike blackshirts peyote None.', 'Resulting in omit None unhungry insetting neurosurgeries rallies customs-duty sumpit.', 'Resulting in disillusionizing clothe triumvirates intoxications inactivating paraheliotropic ringy None.', 'Because electromyography recomputing salvors narg pugaree perversed nonflavored None.', 'Concluding buckwheat shtups meridial solferino achage escry sociopathies None.']\n",
      "[1, 2, 3, 4, 5, 6, 7, 8, 9, 10]\n"
     ]
    }
   ],
   "source": [
    "print(name)\n",
    "print(universityID)\n",
    "print(email)\n",
    "print(question_title)   \n",
    "print(question_content) \n",
    "print(task_title)\n",
    "print(task_content)\n",
    "print(answer_content) \n",
    "print(score)"
   ]
  },
  {
   "cell_type": "code",
   "execution_count": 10,
   "metadata": {},
   "outputs": [],
   "source": [
    "for i in range(len(name)):\n",
    "    t.addStudent(name[i], email[i], universityID[i])\n"
   ]
  },
  {
   "cell_type": "code",
   "execution_count": 11,
   "metadata": {},
   "outputs": [],
   "source": [
    "for i in range(len(question_title)):\n",
    "    t.addQuestion(question_title[i],question_content[i])"
   ]
  },
  {
   "cell_type": "code",
   "execution_count": 12,
   "metadata": {},
   "outputs": [],
   "source": [
    "random.seed(123)\n",
    "res = t.newSession().query(Question.questionid).all()\n",
    "questionids = []\n",
    "for i in res:\n",
    "       questionids.append(i[0])\n",
    "\n",
    "for i in range(len(task_title)):\n",
    "    rs = random.sample(questionids, 3)\n",
    "    t.addTask(rs, task_title[i], task_content[i])"
   ]
  },
  {
   "cell_type": "code",
   "execution_count": 13,
   "metadata": {},
   "outputs": [
    {
     "name": "stdout",
     "output_type": "stream",
     "text": [
      "New assignment added\n",
      "New assignment added\n",
      "New assignment added\n",
      "New assignment added\n",
      "New assignment added\n",
      "New assignment added\n",
      "New assignment added\n",
      "New assignment added\n",
      "New assignment added\n",
      "New assignment added\n",
      "New assignment added\n",
      "New assignment added\n",
      "New assignment added\n",
      "New assignment added\n",
      "New assignment added\n"
     ]
    }
   ],
   "source": [
    "random.seed(123)\n",
    "taskid = t.newSession().query(Task.taskid).all()\n",
    "for i in range(len(name)):\n",
    "    ra = random.sample(taskid, 3)\n",
    "    for j in range(len(ra)):\n",
    "        t.addAssignment(universityID[i],ra[j][0])"
   ]
  },
  {
   "cell_type": "code",
   "execution_count": 14,
   "metadata": {},
   "outputs": [],
   "source": [
    "assignmentid = t.newSession().query(Assignment.assignmentid).all()\n",
    "for i in range(len(assignmentid)):\n",
    "    t.newSubmission(assignmentid[i][0])"
   ]
  },
  {
   "cell_type": "code",
   "execution_count": 15,
   "metadata": {},
   "outputs": [],
   "source": [
    "random.seed(123)\n",
    "submissions = t.newSession().query(Submission).all()\n",
    "for i in range(len(question_title)):\n",
    "    sel_sub_id = random.choice(submissions)\n",
    "    assignment = sel_sub_id.assignmentid\n",
    "    result = t.newSession().query(Assignment.taskid).where(Assignment.assignmentid == assignment).all()\n",
    "    task_id = result[0][0]\n",
    "    task_questions = t.newSession().query(Task_question.questionid).where(Task_question.taskid == task_id).all()\n",
    "    select_question = random.choice(task_questions)\n",
    "    t.addAnswer(answer_content[i], select_question[0], sel_sub_id.submissionid)"
   ]
  },
  {
   "cell_type": "code",
   "execution_count": 16,
   "metadata": {},
   "outputs": [
    {
     "name": "stdout",
     "output_type": "stream",
     "text": [
      "New submission\n",
      "New submission\n",
      "New submission\n",
      "New submission\n",
      "New submission\n",
      "New submission\n",
      "New submission\n",
      "New submission\n",
      "New submission\n",
      "New submission\n",
      "New submission\n",
      "New submission\n",
      "New submission\n",
      "New submission\n",
      "New submission\n"
     ]
    }
   ],
   "source": [
    "random.seed(123)\n",
    "for i in range(len(submissions)):\n",
    "    select_submission = random.choice(submissions)\n",
    "    select_index = submissions.index(select_submission)\n",
    "    submissions.pop(select_index)\n",
    "    t.commitSubmission(select_submission.submissionid)"
   ]
  },
  {
   "cell_type": "code",
   "execution_count": 17,
   "metadata": {},
   "outputs": [],
   "source": [
    "ev_requests = t.newSession().query(EvaluationRequest.requestid).all()\n",
    "for i in range(len(ev_requests)):\n",
    "    t.newEvaluation(ev_requests[i][0])"
   ]
  },
  {
   "cell_type": "code",
   "execution_count": 18,
   "metadata": {},
   "outputs": [],
   "source": [
    "random.seed(123)\n",
    "evals = t.newSession().query(Evaluation).all()\n",
    "for i in evals:\n",
    "    sub_id = t.newSession().query(EvaluationRequest.submissionid).where(EvaluationRequest.requestid == i.requestid).all()\n",
    "    if len(sub_id) == 0:\n",
    "        continue\n",
    "    answer = t.newSession().query(Answers.answerid).where(Answers.submissionid == sub_id[0][0]).all()\n",
    "    if len(answer) == 0:\n",
    "        continue\n",
    "    sc = random.choice(score)\n",
    "    t.addScore(sc, i.evaluationid, answer[0][0])"
   ]
  },
  {
   "cell_type": "code",
   "execution_count": 19,
   "metadata": {},
   "outputs": [
    {
     "name": "stdout",
     "output_type": "stream",
     "text": [
      "Submission evaluated\n",
      "Submission evaluated\n",
      "Submission evaluated\n",
      "Submission evaluated\n",
      "Submission evaluated\n",
      "Submission evaluated\n",
      "Submission evaluated\n",
      "Submission evaluated\n",
      "Submission evaluated\n",
      "Submission evaluated\n",
      "Submission evaluated\n"
     ]
    }
   ],
   "source": [
    "eval_ids = t.newSession().query(Scores.evaluationid).all()\n",
    "if len(eval_ids) == 0:\n",
    "        print(\"No evaluation ids found\")\n",
    "else:\n",
    "        for i in range(len(eval_ids)):\n",
    "                t.commitEvaluation(eval_ids[i][0])"
   ]
  },
  {
   "cell_type": "code",
   "execution_count": null,
   "metadata": {},
   "outputs": [],
   "source": []
  }
 ],
 "metadata": {
  "interpreter": {
   "hash": "31f2aee4e71d21fbe5cf8b01ff0e069b9275f58929596ceb00d14d90e3e16cd6"
  },
  "kernelspec": {
   "display_name": "Python 3 (ipykernel)",
   "language": "python",
   "name": "python3"
  },
  "language_info": {
   "codemirror_mode": {
    "name": "ipython",
    "version": 3
   },
   "file_extension": ".py",
   "mimetype": "text/x-python",
   "name": "python",
   "nbconvert_exporter": "python",
   "pygments_lexer": "ipython3",
   "version": "3.8.2"
  }
 },
 "nbformat": 4,
 "nbformat_minor": 2
}
