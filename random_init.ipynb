{
 "cells": [
  {
   "cell_type": "code",
   "execution_count": 11,
   "metadata": {},
   "outputs": [
    {
     "name": "stdout",
     "output_type": "stream",
     "text": [
      "Defaulting to user installation because normal site-packages is not writeable\n",
      "Requirement already satisfied: names in /Users/luisegummi/Library/Python/3.8/lib/python/site-packages (0.3.0)\n"
     ]
    }
   ],
   "source": [
    "#! pip install names\n",
    "import names\n",
    "import random\n",
    "import string\n"
   ]
  },
  {
   "cell_type": "code",
   "execution_count": 12,
   "metadata": {},
   "outputs": [
    {
     "name": "stdout",
     "output_type": "stream",
     "text": [
      "Christopher Dryer\n",
      "Margaret Wigfield\n",
      "Kevin North\n",
      "Stefanie Cook\n",
      "April Jerome\n",
      "James Morse\n",
      "Nick Brock\n",
      "George Horne\n",
      "Robert Turner\n",
      "Mark Shannon\n"
     ]
    }
   ],
   "source": [
    "random.seed(123)\n",
    "for i in range(10):\n",
    "    print(names.get_full_name())"
   ]
  },
  {
   "cell_type": "code",
   "execution_count": 13,
   "metadata": {},
   "outputs": [
    {
     "name": "stdout",
     "output_type": "stream",
     "text": [
      "Marjorie Steele S0416410 s0416410@vuw.leidenuniv.nl\n",
      "James Morse S0225853 s0225853@vuw.leidenuniv.nl\n",
      "Dominic Robinson S1961057 s1961057@vuw.leidenuniv.nl\n",
      "Diana Brown S2204697 s2204697@vuw.leidenuniv.nl\n",
      "Mary Bakley S4587398 s4587398@vuw.leidenuniv.nl\n",
      "Wendy Cunniff S8689786 s8689786@vuw.leidenuniv.nl\n",
      "Allyson Tarrant S2174255 s2174255@vuw.leidenuniv.nl\n",
      "Mary Newton S6950391 s6950391@vuw.leidenuniv.nl\n",
      "Justin Turbacuski S3688047 s3688047@vuw.leidenuniv.nl\n",
      "Andrew Williams S2876700 s2876700@vuw.leidenuniv.nl\n",
      "Carl Angle S5466019 s5466019@vuw.leidenuniv.nl\n",
      "Mary Craig S1608618 s1608618@vuw.leidenuniv.nl\n",
      "Luke Golden S7085650 s7085650@vuw.leidenuniv.nl\n",
      "Betty Higgs S2531086 s2531086@vuw.leidenuniv.nl\n",
      "Ernest Curlee S4652858 s4652858@vuw.leidenuniv.nl\n",
      "Abby Vachon S6602705 s6602705@vuw.leidenuniv.nl\n",
      "Edward Walker S7460285 s7460285@vuw.leidenuniv.nl\n",
      "Richard Miles S5395148 s5395148@vuw.leidenuniv.nl\n",
      "Richard Connell S6081383 s6081383@vuw.leidenuniv.nl\n",
      "Grady Altieri S1951588 s1951588@vuw.leidenuniv.nl\n"
     ]
    }
   ],
   "source": [
    "random.seed(123)\n",
    "for i in range(20):\n",
    "        digits = \"\".join([random.choice(string.digits) for i in range(7)] )\n",
    "        name = (names.get_full_name())\n",
    "        universityID = ('S' + digits)\n",
    "        email = ('s' + digits + '@vuw.leidenuniv.nl')\n",
    "        print(name,universityID,email)"
   ]
  },
  {
   "cell_type": "code",
   "execution_count": 17,
   "metadata": {},
   "outputs": [
    {
     "ename": "ModuleNotFoundError",
     "evalue": "No module named '_overlapped'",
     "output_type": "error",
     "traceback": [
      "\u001b[0;31m---------------------------------------------------------------------------\u001b[0m",
      "\u001b[0;31mModuleNotFoundError\u001b[0m                       Traceback (most recent call last)",
      "\u001b[1;32m/Users/luisegummi/Documents/GitHub/EfDS_assignment_DBSQL5/random_init.ipynb Cell 4'\u001b[0m in \u001b[0;36m<module>\u001b[0;34m\u001b[0m\n\u001b[0;32m----> <a href='vscode-notebook-cell:/Users/luisegummi/Documents/GitHub/EfDS_assignment_DBSQL5/random_init.ipynb#ch0000005?line=0'>1</a>\u001b[0m \u001b[39mimport\u001b[39;00m \u001b[39mgradedb\u001b[39;00m\u001b[39m.\u001b[39;00m\u001b[39mpy\u001b[39;00m \u001b[39mas\u001b[39;00m \u001b[39mgdb\u001b[39;00m\n",
      "File \u001b[0;32m~/Documents/GitHub/EfDS_assignment_DBSQL5/gradedb.py:1\u001b[0m, in \u001b[0;36m<module>\u001b[0;34m\u001b[0m\n\u001b[0;32m----> <a href='file:///Users/luisegummi/Documents/GitHub/EfDS_assignment_DBSQL5/gradedb.py?line=0'>1</a>\u001b[0m \u001b[39mfrom\u001b[39;00m \u001b[39masyncio\u001b[39;00m\u001b[39m.\u001b[39;00m\u001b[39mwindows_events\u001b[39;00m \u001b[39mimport\u001b[39;00m NULL\n\u001b[1;32m      <a href='file:///Users/luisegummi/Documents/GitHub/EfDS_assignment_DBSQL5/gradedb.py?line=1'>2</a>\u001b[0m \u001b[39mfrom\u001b[39;00m \u001b[39mcurses\u001b[39;00m\u001b[39m.\u001b[39;00m\u001b[39mascii\u001b[39;00m \u001b[39mimport\u001b[39;00m isalnum, isalpha\n\u001b[1;32m      <a href='file:///Users/luisegummi/Documents/GitHub/EfDS_assignment_DBSQL5/gradedb.py?line=2'>3</a>\u001b[0m \u001b[39mfrom\u001b[39;00m \u001b[39mlogging\u001b[39;00m \u001b[39mimport\u001b[39;00m exception\n",
      "File \u001b[0;32m/Library/Developer/CommandLineTools/Library/Frameworks/Python3.framework/Versions/3.8/lib/python3.8/asyncio/windows_events.py:3\u001b[0m, in \u001b[0;36m<module>\u001b[0;34m\u001b[0m\n\u001b[1;32m      <a href='file:///Library/Developer/CommandLineTools/Library/Frameworks/Python3.framework/Versions/3.8/lib/python3.8/asyncio/windows_events.py?line=0'>1</a>\u001b[0m \u001b[39m\"\"\"Selector and proactor event loops for Windows.\"\"\"\u001b[39;00m\n\u001b[0;32m----> <a href='file:///Library/Developer/CommandLineTools/Library/Frameworks/Python3.framework/Versions/3.8/lib/python3.8/asyncio/windows_events.py?line=2'>3</a>\u001b[0m \u001b[39mimport\u001b[39;00m \u001b[39m_overlapped\u001b[39;00m\n\u001b[1;32m      <a href='file:///Library/Developer/CommandLineTools/Library/Frameworks/Python3.framework/Versions/3.8/lib/python3.8/asyncio/windows_events.py?line=3'>4</a>\u001b[0m \u001b[39mimport\u001b[39;00m \u001b[39m_winapi\u001b[39;00m\n\u001b[1;32m      <a href='file:///Library/Developer/CommandLineTools/Library/Frameworks/Python3.framework/Versions/3.8/lib/python3.8/asyncio/windows_events.py?line=4'>5</a>\u001b[0m \u001b[39mimport\u001b[39;00m \u001b[39merrno\u001b[39;00m\n",
      "\u001b[0;31mModuleNotFoundError\u001b[0m: No module named '_overlapped'"
     ]
    }
   ],
   "source": [
    "import gradedb as gdb\n",
    "\n"
   ]
  }
 ],
 "metadata": {
  "interpreter": {
   "hash": "31f2aee4e71d21fbe5cf8b01ff0e069b9275f58929596ceb00d14d90e3e16cd6"
  },
  "kernelspec": {
   "display_name": "Python 3.8.2 64-bit",
   "language": "python",
   "name": "python3"
  },
  "language_info": {
   "codemirror_mode": {
    "name": "ipython",
    "version": 3
   },
   "file_extension": ".py",
   "mimetype": "text/x-python",
   "name": "python",
   "nbconvert_exporter": "python",
   "pygments_lexer": "ipython3",
   "version": "3.8.2"
  },
  "orig_nbformat": 4
 },
 "nbformat": 4,
 "nbformat_minor": 2
}
