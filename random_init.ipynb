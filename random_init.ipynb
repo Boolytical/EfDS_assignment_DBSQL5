{
 "cells": [
  {
   "cell_type": "code",
   "execution_count": 11,
   "metadata": {},
   "outputs": [
    {
     "name": "stdout",
     "output_type": "stream",
     "text": [
      "Defaulting to user installation because normal site-packages is not writeable\n",
      "Requirement already satisfied: names in /Users/luisegummi/Library/Python/3.8/lib/python/site-packages (0.3.0)\n"
     ]
    }
   ],
   "source": [
    "#! pip install names\n",
    "#! pip install random_word\n",
    "import random_word\n",
    "from random_word import RandomWords\n",
    "import names\n",
    "import random\n",
    "import string\n",
    "import sys\n",
    "import os\n",
    "sys.path.append(\".\")\n",
    "import gradedb\n",
    "import numpy as np\n"
   ]
  },
  {
   "cell_type": "code",
   "execution_count": 12,
   "metadata": {},
   "outputs": [
    {
     "name": "stdout",
     "output_type": "stream",
     "text": [
      "Christopher Dryer\n",
      "Margaret Wigfield\n",
      "Kevin North\n",
      "Stefanie Cook\n",
      "April Jerome\n",
      "James Morse\n",
      "Nick Brock\n",
      "George Horne\n",
      "Robert Turner\n",
      "Mark Shannon\n"
     ]
    }
   ],
   "source": [
    "random.seed(123)\n",
    "name = []\n",
    "universityID = []\n",
    "email = []\n",
    "for i in range(5):\n",
    "        digits = \"\".join([random.choice(string.digits) for i in range(7)] )\n",
    "        name.append(names.get_full_name())\n",
    "        universityID.append('S' + digits)\n",
    "        email.append('s' + digits + '@vuw.leidenuniv.nl')\n",
    "print(name)\n",
    "print(universityID)\n",
    "print(email) "
   ]
  },
  {
   "cell_type": "code",
   "execution_count": 13,
   "metadata": {},
   "outputs": [
    {
     "name": "stdout",
     "output_type": "stream",
     "text": [
      "Marjorie Steele S0416410 s0416410@vuw.leidenuniv.nl\n",
      "James Morse S0225853 s0225853@vuw.leidenuniv.nl\n",
      "Dominic Robinson S1961057 s1961057@vuw.leidenuniv.nl\n",
      "Diana Brown S2204697 s2204697@vuw.leidenuniv.nl\n",
      "Mary Bakley S4587398 s4587398@vuw.leidenuniv.nl\n",
      "Wendy Cunniff S8689786 s8689786@vuw.leidenuniv.nl\n",
      "Allyson Tarrant S2174255 s2174255@vuw.leidenuniv.nl\n",
      "Mary Newton S6950391 s6950391@vuw.leidenuniv.nl\n",
      "Justin Turbacuski S3688047 s3688047@vuw.leidenuniv.nl\n",
      "Andrew Williams S2876700 s2876700@vuw.leidenuniv.nl\n",
      "Carl Angle S5466019 s5466019@vuw.leidenuniv.nl\n",
      "Mary Craig S1608618 s1608618@vuw.leidenuniv.nl\n",
      "Luke Golden S7085650 s7085650@vuw.leidenuniv.nl\n",
      "Betty Higgs S2531086 s2531086@vuw.leidenuniv.nl\n",
      "Ernest Curlee S4652858 s4652858@vuw.leidenuniv.nl\n",
      "Abby Vachon S6602705 s6602705@vuw.leidenuniv.nl\n",
      "Edward Walker S7460285 s7460285@vuw.leidenuniv.nl\n",
      "Richard Miles S5395148 s5395148@vuw.leidenuniv.nl\n",
      "Richard Connell S6081383 s6081383@vuw.leidenuniv.nl\n",
      "Grady Altieri S1951588 s1951588@vuw.leidenuniv.nl\n"
     ]
    }
   ],
   "source": [
    "#question function \n",
    "question_title = []\n",
    "question_content = []\n",
    "def question():\n",
    "    First_word = (\"Which\", \"What\", \"Where\", \"How\", \"Over\",  \"Calculate\")\n",
    "    word = random.choice(First_word)\n",
    "    q = str('?')\n",
    "    b = str(' ')\n",
    "    r = RandomWords()\n",
    "    for i in range(5):\n",
    "        v = str(r.get_random_word(hasDictionaryDef=\"true\",minLength=1))\n",
    "        q = (b + v + q)\n",
    "    word = random.choice(First_word)\n",
    "    Question = (word + q)\n",
    "    return(Question)\n",
    "\n",
    "for j in range(15):\n",
    "    question_content.append(question())\n",
    "    question_title.append('Question ' + str(j+1))\n",
    "print(question_title)   \n",
    "print(question_content) "
   ]
  },
  {
   "cell_type": "code",
   "execution_count": 4,
   "metadata": {},
   "outputs": [],
   "source": [
    "\n",
    "# out: a list of Tasks\n",
    "random.seed(4567)\n",
    "task_title = []\n",
    "task_content = []\n",
    "for i in range(5):\n",
    "    task_number = \"\".join([random.choice(string.digits) for i in range(3)])\n",
    "    task_title.append('Task ' + task_number)\n",
    "    task_content_text = ('This is task ' + task_number + ' there are multiple questions you need to answer to answer.')\n",
    "    task_content.append(task_content_text)\n",
    "print(task_title)\n",
    "print(task_content)\n"
   ]
  },
  {
   "cell_type": "code",
   "execution_count": null,
   "metadata": {},
   "outputs": [],
   "source": [
    "#answer function \n",
    "answer_content = []\n",
    "def answer():\n",
    "    First_word = (\"Because\", \"In this case\", \"Concluding\", \"Given\", \"Resulting in\",  \"To calculate\")\n",
    "    word = random.choice(First_word)\n",
    "    q = str('.')\n",
    "    b = str(' ')\n",
    "    r = RandomWords()\n",
    "    for i in range(8):\n",
    "        v = str(r.get_random_word(hasDictionaryDef=\"true\",minLength=1))\n",
    "        q = (b + v + q)\n",
    "    word = random.choice(First_word)\n",
    "    Answer = (word + q)\n",
    "    return(Answer)\n",
    "\n",
    "for j in range(15):\n",
    "    answer_content.append(answer())\n",
    "print(answer_content) "
   ]
  },
  {
   "cell_type": "code",
   "execution_count": null,
   "metadata": {},
   "outputs": [],
   "source": [
    "score = []\n",
    "for i in range(5):\n",
    "    numbers = range(1,11)\n",
    "    number = random.choice(numbers)\n",
    "    score.append(number)\n",
    "print(score)"
   ]
  },
  {
   "cell_type": "code",
   "execution_count": null,
   "metadata": {},
   "outputs": [],
   "source": [
    "# code to check if the names are unique\n",
    "if(len(set(name)) == len(name)):\n",
    "   print(\"every name is unique.\")\n",
    "else:\n",
    "   print(\"There are copy's, change set.seed\")\n",
    "# code to check if the universityID's are unique\n",
    "if(len(set(universityID)) == len(universityID)):\n",
    "   print(\"every idnumber is unique.\")\n",
    "else:\n",
    "   print(\"There are copy's, change set.seed\")\n",
    "# code to ckeck if the numbers for task are unique\n",
    "if(len(set(task_title)) == len(task_title)):\n",
    "   print(\"every task is unique.\")\n",
    "else:\n",
    "   print(\"There are copy's, change set.seed\")"
   ]
  },
  {
   "cell_type": "code",
   "execution_count": null,
   "metadata": {},
   "outputs": [],
   "source": [
    "print(name)\n",
    "print(universityID)\n",
    "print(email)\n",
    "print(question_title)   \n",
    "print(question_content) \n",
    "print(task_title)\n",
    "print(task_content)\n",
    "print(answer_content) \n",
    "print(score)"
   ]
  }
 ],
 "metadata": {
  "interpreter": {
   "hash": "31f2aee4e71d21fbe5cf8b01ff0e069b9275f58929596ceb00d14d90e3e16cd6"
  },
  "kernelspec": {
   "display_name": "Python 3 (ipykernel)",
   "language": "python",
   "name": "python3"
  },
  "language_info": {
   "codemirror_mode": {
    "name": "ipython",
    "version": 3
   },
   "file_extension": ".py",
   "mimetype": "text/x-python",
   "name": "python",
   "nbconvert_exporter": "python",
   "pygments_lexer": "ipython3",
   "version": "3.9.7"
  }
 },
 "nbformat": 4,
 "nbformat_minor": 2
}
