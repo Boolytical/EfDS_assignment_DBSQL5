{
 "cells": [
  {
   "cell_type": "code",
   "execution_count": 11,
   "metadata": {},
   "outputs": [
    {
     "name": "stdout",
     "output_type": "stream",
     "text": [
      "Defaulting to user installation because normal site-packages is not writeable\n",
      "Requirement already satisfied: names in /Users/luisegummi/Library/Python/3.8/lib/python/site-packages (0.3.0)\n"
     ]
    }
   ],
   "source": [
    "#! pip install names\n",
    "import names\n",
    "import random\n",
    "import string\n",
    "import sys\n",
    "import os\n",
    "sys.path.append(\".\")\n",
    "import gradedb\n"
   ]
  },
  {
   "cell_type": "code",
   "execution_count": 12,
   "metadata": {},
   "outputs": [
    {
     "name": "stdout",
     "output_type": "stream",
     "text": [
      "Christopher Dryer\n",
      "Margaret Wigfield\n",
      "Kevin North\n",
      "Stefanie Cook\n",
      "April Jerome\n",
      "James Morse\n",
      "Nick Brock\n",
      "George Horne\n",
      "Robert Turner\n",
      "Mark Shannon\n"
     ]
    }
   ],
   "source": [
    "random.seed(123)\n",
    "for i in range(10):\n",
    "    print(names.get_full_name())"
   ]
  },
  {
   "cell_type": "code",
   "execution_count": 13,
   "metadata": {},
   "outputs": [
    {
     "name": "stdout",
     "output_type": "stream",
     "text": [
      "Marjorie Steele S0416410 s0416410@vuw.leidenuniv.nl\n",
      "James Morse S0225853 s0225853@vuw.leidenuniv.nl\n",
      "Dominic Robinson S1961057 s1961057@vuw.leidenuniv.nl\n",
      "Diana Brown S2204697 s2204697@vuw.leidenuniv.nl\n",
      "Mary Bakley S4587398 s4587398@vuw.leidenuniv.nl\n",
      "Wendy Cunniff S8689786 s8689786@vuw.leidenuniv.nl\n",
      "Allyson Tarrant S2174255 s2174255@vuw.leidenuniv.nl\n",
      "Mary Newton S6950391 s6950391@vuw.leidenuniv.nl\n",
      "Justin Turbacuski S3688047 s3688047@vuw.leidenuniv.nl\n",
      "Andrew Williams S2876700 s2876700@vuw.leidenuniv.nl\n",
      "Carl Angle S5466019 s5466019@vuw.leidenuniv.nl\n",
      "Mary Craig S1608618 s1608618@vuw.leidenuniv.nl\n",
      "Luke Golden S7085650 s7085650@vuw.leidenuniv.nl\n",
      "Betty Higgs S2531086 s2531086@vuw.leidenuniv.nl\n",
      "Ernest Curlee S4652858 s4652858@vuw.leidenuniv.nl\n",
      "Abby Vachon S6602705 s6602705@vuw.leidenuniv.nl\n",
      "Edward Walker S7460285 s7460285@vuw.leidenuniv.nl\n",
      "Richard Miles S5395148 s5395148@vuw.leidenuniv.nl\n",
      "Richard Connell S6081383 s6081383@vuw.leidenuniv.nl\n",
      "Grady Altieri S1951588 s1951588@vuw.leidenuniv.nl\n"
     ]
    }
   ],
   "source": [
    "random.seed(123)\n",
    "for i in range(20):\n",
    "        digits = \"\".join([random.choice(string.digits) for i in range(7)] )\n",
    "        name = (names.get_full_name())\n",
    "        universityID = ('S' + digits)\n",
    "        email = ('s' + digits + '@vuw.leidenuniv.nl')\n",
    "        print(name,universityID,email)"
   ]
  },
  {
   "cell_type": "code",
   "execution_count": 4,
   "metadata": {},
   "outputs": [],
   "source": [
    "\n",
    "\n"
   ]
  },
  {
   "cell_type": "code",
   "execution_count": null,
   "metadata": {},
   "outputs": [],
   "source": []
  }
 ],
 "metadata": {
  "interpreter": {
   "hash": "31f2aee4e71d21fbe5cf8b01ff0e069b9275f58929596ceb00d14d90e3e16cd6"
  },
  "kernelspec": {
   "display_name": "Python 3 (ipykernel)",
   "language": "python",
   "name": "python3"
  },
  "language_info": {
   "codemirror_mode": {
    "name": "ipython",
    "version": 3
   },
   "file_extension": ".py",
   "mimetype": "text/x-python",
   "name": "python",
   "nbconvert_exporter": "python",
   "pygments_lexer": "ipython3",
   "version": "3.9.7"
  }
 },
 "nbformat": 4,
 "nbformat_minor": 2
}
