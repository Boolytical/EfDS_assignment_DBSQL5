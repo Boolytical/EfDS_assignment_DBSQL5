{
 "cells": [
  {
   "cell_type": "code",
   "execution_count": 1,
   "metadata": {},
   "outputs": [],
   "source": [
    "#! pip install names\n",
    "#! pip install random_word\n",
    "#! pip install pyyaml\n",
    "from random_word import RandomWords\n",
    "import names\n",
    "import random\n",
    "import string\n",
    "import sys\n",
    "import os\n",
    "sys.path.append(\".\")\n",
    "import numpy as np\n"
   ]
  },
  {
   "cell_type": "code",
   "execution_count": 2,
   "metadata": {},
   "outputs": [
    {
     "name": "stdout",
     "output_type": "stream",
     "text": [
      "['Marjorie Steele', 'James Morse', 'Dominic Robinson', 'Diana Brown', 'Mary Bakley']\n",
      "['0416410', '0225853', '1961057', '2204697', '4587398']\n",
      "['0416410@vuw.leidenuniv.nl', '0225853@vuw.leidenuniv.nl', '1961057@vuw.leidenuniv.nl', '2204697@vuw.leidenuniv.nl', '4587398@vuw.leidenuniv.nl']\n"
     ]
    }
   ],
   "source": [
    "random.seed(123)\n",
    "name = []\n",
    "universityID = []\n",
    "email = []\n",
    "for i in range(5):\n",
    "        digits = \"\".join([random.choice(string.digits) for i in range(7)] )\n",
    "        name.append(names.get_full_name())\n",
    "        universityID.append(digits)\n",
    "        email.append(digits + '@vuw.leidenuniv.nl')\n",
    "print(name)\n",
    "print(universityID)\n",
    "print(email) "
   ]
  },
  {
   "cell_type": "code",
   "execution_count": 3,
   "metadata": {},
   "outputs": [
    {
     "name": "stdout",
     "output_type": "stream",
     "text": [
      "['Question 1', 'Question 2', 'Question 3', 'Question 4', 'Question 5', 'Question 6', 'Question 7', 'Question 8', 'Question 9', 'Question 10', 'Question 11', 'Question 12', 'Question 13', 'Question 14', 'Question 15']\n",
      "['Over morbilli slashes tonguedness toilsomely None?', 'Calculate None billabong tryster trafficless pretorship?', 'Calculate bufferin hang-gliders clinking obliviscence None?', 'Over inheritrices destabilization necrotized groundbursts None?', 'Over enal unfolded nonfluctuating rhapsodes None?', 'How None Low Saxon chapbook roughhead None?', 'Over Uberaba wreck-free effectual nyamwezi None?', 'Calculate obstetrically column-rule flora Manchurian None?', 'Calculate divergement delimbed whirlpools lustily None?', 'How miscalled retrojet jissom stanozolol None?', 'Where milano scrupulously clothes-brushes dihydroxyphenylalanine None?', 'Where topsoiling overleapt supermajor puritanism None?', 'Over flether trioxane Frankenstein defrags None?', 'Which intercision uncanny ryght None symplast?', 'How adjournment hoarding blueprinted dandriff None?']\n"
     ]
    }
   ],
   "source": [
    "#question function \n",
    "question_title = []\n",
    "question_content = []\n",
    "def question():\n",
    "    First_word = (\"Which\", \"What\", \"Where\", \"How\", \"Over\",  \"Calculate\")\n",
    "    word = random.choice(First_word)\n",
    "    q = str('?')\n",
    "    b = str(' ')\n",
    "    r = RandomWords()\n",
    "    for i in range(5):\n",
    "        v = str(r.get_random_word(hasDictionaryDef=\"true\",minLength=1))\n",
    "        q = (b + v + q)\n",
    "    word = random.choice(First_word)\n",
    "    Question = (word + q)\n",
    "    return(Question)\n",
    "\n",
    "for j in range(15):\n",
    "    question_content.append(question())\n",
    "    question_title.append('Question ' + str(j+1))\n",
    "print(question_title)   \n",
    "print(question_content) "
   ]
  },
  {
   "cell_type": "code",
   "execution_count": 4,
   "metadata": {},
   "outputs": [
    {
     "name": "stdout",
     "output_type": "stream",
     "text": [
      "['Task 688', 'Task 405', 'Task 871', 'Task 980', 'Task 913']\n",
      "['This is task 688, there are multiple questions you need answer.', 'This is task 405, there are multiple questions you need answer.', 'This is task 871, there are multiple questions you need answer.', 'This is task 980, there are multiple questions you need answer.', 'This is task 913, there are multiple questions you need answer.']\n"
     ]
    }
   ],
   "source": [
    "\n",
    "# out: a list of Tasks\n",
    "random.seed(4567)\n",
    "task_title = []\n",
    "task_content = []\n",
    "for i in range(5):\n",
    "    task_number = \"\".join([random.choice(string.digits) for i in range(3)])\n",
    "    task_title.append('Task ' + task_number)\n",
    "    task_content_text = ('This is task ' + task_number + ', there are multiple questions you need answer.')\n",
    "    task_content.append(task_content_text)\n",
    "print(task_title)\n",
    "print(task_content)\n"
   ]
  },
  {
   "cell_type": "code",
   "execution_count": 5,
   "metadata": {},
   "outputs": [
    {
     "name": "stdout",
     "output_type": "stream",
     "text": [
      "['Given immunocomplex Valais dudeism American Indian monotype violer zonaria None.', 'Given skulking-place sarcoptes Athletics smockless bag blasphemies testimonials None.', 'Given outfool selfish axerophthol 8-track unconceived vice-constable turnable None.', 'To calculate disseminates bolshie calibrates guessing purloining stopt re-creation None.', 'Because Mount Everest activate developer granularity prodigence arrows enviously None.', 'Given Harte votaress None unspecifically whame mishears caroler nonsensicality.', 'To calculate cheeriness splicers arst clansmen triomino heathenry None Jenn.', 'Given radiometer ATGW downturn aplomb cultivated infalling collective None.', 'Resulting in vacuole committable thirty-six remainest cryptorchids N.Dak. bent-wood None.', 'Given voicings antichip saying unexchanged immunoreceptors nimbo-stratus plonked None.', 'Resulting in pyrophorous wear agonistical angulate cosmographic lizardfishes sturgeon None.', 'Resulting in petroglyphic silvan yeastless allanite aborigines bitonality Cephissia None.', 'Resulting in hissyfit EITC terrifiedly None typographic chieftess acquirer silkworms.', 'Because jolter talkiest grindings disease sparkly biopunk gei None.', 'Concluding chicken-snake Mary Stuart painless psychogony slate-blue meal-tub crystallize None.']\n"
     ]
    }
   ],
   "source": [
    "#answer function \n",
    "answer_content = []\n",
    "def answer():\n",
    "    First_word = (\"Because\", \"In this case\", \"Concluding\", \"Given\", \"Resulting in\",  \"To calculate\")\n",
    "    word = random.choice(First_word)\n",
    "    q = str('.')\n",
    "    b = str(' ')\n",
    "    r = RandomWords()\n",
    "    for i in range(8):\n",
    "        v = str(r.get_random_word(hasDictionaryDef=\"true\",minLength=1))\n",
    "        q = (b + v + q)\n",
    "    word = random.choice(First_word)\n",
    "    Answer = (word + q)\n",
    "    return(Answer)\n",
    "\n",
    "for j in range(15):\n",
    "    answer_content.append(answer())\n",
    "print(answer_content) "
   ]
  },
  {
   "cell_type": "code",
   "execution_count": 6,
   "metadata": {},
   "outputs": [
    {
     "name": "stdout",
     "output_type": "stream",
     "text": [
      "[7, 2, 1, 7, 9]\n"
     ]
    }
   ],
   "source": [
    "score = []\n",
    "for i in range(5):\n",
    "    numbers = range(1,11)\n",
    "    number = random.choice(numbers)\n",
    "    score.append(number)\n",
    "print(score)"
   ]
  },
  {
   "cell_type": "code",
   "execution_count": 7,
   "metadata": {},
   "outputs": [
    {
     "name": "stdout",
     "output_type": "stream",
     "text": [
      "every name is unique.\n",
      "every idnumber is unique.\n",
      "every task is unique.\n"
     ]
    }
   ],
   "source": [
    "# code to check if the names are unique\n",
    "if(len(set(name)) == len(name)):\n",
    "   print(\"every name is unique.\")\n",
    "else:\n",
    "   print(\"There are copy's, change set.seed\")\n",
    "# code to check if the universityID's are unique\n",
    "if(len(set(universityID)) == len(universityID)):\n",
    "   print(\"every idnumber is unique.\")\n",
    "else:\n",
    "   print(\"There are copy's, change set.seed\")\n",
    "# code to ckeck if the numbers for task are unique\n",
    "if(len(set(task_title)) == len(task_title)):\n",
    "   print(\"every task is unique.\")\n",
    "else:\n",
    "   print(\"There are copy's, change set.seed\")"
   ]
  },
  {
   "cell_type": "code",
   "execution_count": 8,
   "metadata": {},
   "outputs": [
    {
     "name": "stdout",
     "output_type": "stream",
     "text": [
      "['Marjorie Steele', 'James Morse', 'Dominic Robinson', 'Diana Brown', 'Mary Bakley']\n",
      "['0416410', '0225853', '1961057', '2204697', '4587398']\n",
      "['0416410@vuw.leidenuniv.nl', '0225853@vuw.leidenuniv.nl', '1961057@vuw.leidenuniv.nl', '2204697@vuw.leidenuniv.nl', '4587398@vuw.leidenuniv.nl']\n",
      "['Question 1', 'Question 2', 'Question 3', 'Question 4', 'Question 5', 'Question 6', 'Question 7', 'Question 8', 'Question 9', 'Question 10', 'Question 11', 'Question 12', 'Question 13', 'Question 14', 'Question 15']\n",
      "['Over morbilli slashes tonguedness toilsomely None?', 'Calculate None billabong tryster trafficless pretorship?', 'Calculate bufferin hang-gliders clinking obliviscence None?', 'Over inheritrices destabilization necrotized groundbursts None?', 'Over enal unfolded nonfluctuating rhapsodes None?', 'How None Low Saxon chapbook roughhead None?', 'Over Uberaba wreck-free effectual nyamwezi None?', 'Calculate obstetrically column-rule flora Manchurian None?', 'Calculate divergement delimbed whirlpools lustily None?', 'How miscalled retrojet jissom stanozolol None?', 'Where milano scrupulously clothes-brushes dihydroxyphenylalanine None?', 'Where topsoiling overleapt supermajor puritanism None?', 'Over flether trioxane Frankenstein defrags None?', 'Which intercision uncanny ryght None symplast?', 'How adjournment hoarding blueprinted dandriff None?']\n",
      "['Task 688', 'Task 405', 'Task 871', 'Task 980', 'Task 913']\n",
      "['This is task 688, there are multiple questions you need answer.', 'This is task 405, there are multiple questions you need answer.', 'This is task 871, there are multiple questions you need answer.', 'This is task 980, there are multiple questions you need answer.', 'This is task 913, there are multiple questions you need answer.']\n",
      "['Given immunocomplex Valais dudeism American Indian monotype violer zonaria None.', 'Given skulking-place sarcoptes Athletics smockless bag blasphemies testimonials None.', 'Given outfool selfish axerophthol 8-track unconceived vice-constable turnable None.', 'To calculate disseminates bolshie calibrates guessing purloining stopt re-creation None.', 'Because Mount Everest activate developer granularity prodigence arrows enviously None.', 'Given Harte votaress None unspecifically whame mishears caroler nonsensicality.', 'To calculate cheeriness splicers arst clansmen triomino heathenry None Jenn.', 'Given radiometer ATGW downturn aplomb cultivated infalling collective None.', 'Resulting in vacuole committable thirty-six remainest cryptorchids N.Dak. bent-wood None.', 'Given voicings antichip saying unexchanged immunoreceptors nimbo-stratus plonked None.', 'Resulting in pyrophorous wear agonistical angulate cosmographic lizardfishes sturgeon None.', 'Resulting in petroglyphic silvan yeastless allanite aborigines bitonality Cephissia None.', 'Resulting in hissyfit EITC terrifiedly None typographic chieftess acquirer silkworms.', 'Because jolter talkiest grindings disease sparkly biopunk gei None.', 'Concluding chicken-snake Mary Stuart painless psychogony slate-blue meal-tub crystallize None.']\n",
      "[7, 2, 1, 7, 9]\n"
     ]
    }
   ],
   "source": [
    "print(name)\n",
    "print(universityID)\n",
    "print(email)\n",
    "print(question_title)   \n",
    "print(question_content) \n",
    "print(task_title)\n",
    "print(task_content)\n",
    "print(answer_content) \n",
    "print(score)"
   ]
  },
  {
   "cell_type": "code",
   "execution_count": 9,
   "metadata": {},
   "outputs": [],
   "source": [
    "name=['MarjorieSteele', 'JamesMorse', 'DominicRobinson', 'DianaBrown', 'MaryBakley']"
   ]
  },
  {
   "cell_type": "code",
   "execution_count": 10,
   "metadata": {},
   "outputs": [],
   "source": [
    "import curses\n",
    "import sys\n",
    "import os\n",
    "sys.path.append(\".\")\n",
    "from gradedb import Gradedb\n",
    "from schema import *\n",
    "from sqlalchemy import create_engine\n",
    "from sqlalchemy import text\n",
    "from sqlalchemy.sql import select\n"
   ]
  },
  {
   "cell_type": "code",
   "execution_count": 11,
   "metadata": {},
   "outputs": [],
   "source": [
    "engine = create_engine(\"sqlite:///gradedb.db\")\n",
    "try:\n",
    "    engine.connect()\n",
    "except OperationalError:\n",
    "    create_database(engine.url)\n",
    "conn = engine.connect()\n",
    "base.metadata.create_all(engine)"
   ]
  },
  {
   "cell_type": "code",
   "execution_count": 12,
   "metadata": {},
   "outputs": [],
   "source": [
    "t = Gradedb(\"gradedb.db\")"
   ]
  },
  {
   "cell_type": "code",
   "execution_count": 13,
   "metadata": {},
   "outputs": [],
   "source": [
    "\n",
    "for i in range(5):\n",
    "    t.addStudent(name[i], email[i], universityID[i])\n"
   ]
  },
  {
   "cell_type": "code",
   "execution_count": 14,
   "metadata": {},
   "outputs": [],
   "source": [
    "for i in range(15):\n",
    "    t.addQuestion(question_title[i],question_content[i])"
   ]
  },
  {
   "cell_type": "code",
   "execution_count": 15,
   "metadata": {},
   "outputs": [],
   "source": [
    "questionids = [[1,2,3],[4,5,6],[7,8,9],[10,11,12],[13,14,15]]\n",
    "for i in range(5):\n",
    "    t.addTask(questionids[i], task_title[i], task_content[i])"
   ]
  },
  {
   "cell_type": "code",
   "execution_count": 16,
   "metadata": {},
   "outputs": [
    {
     "name": "stdout",
     "output_type": "stream",
     "text": [
      "New assignment added\n",
      "New assignment added\n",
      "New assignment added\n",
      "New assignment added\n",
      "New assignment added\n"
     ]
    }
   ],
   "source": [
    "taskid=[1,2,3,4,5]\n",
    "for i in range(5):\n",
    "    t.addAssignment(universityID[i],taskid[i])"
   ]
  },
  {
   "cell_type": "code",
   "execution_count": 17,
   "metadata": {},
   "outputs": [],
   "source": [
    "assignmentid=[1,2,3,4,5]\n",
    "for i in range(5):\n",
    "    t.newSubmission(assignmentid[i])"
   ]
  },
  {
   "cell_type": "code",
   "execution_count": 18,
   "metadata": {},
   "outputs": [],
   "source": [
    "newquestionid = list(range(1,16))\n",
    "submissionid = list(range(1,6))\n",
    "for i in range(5):\n",
    "    t.addAnswer(answer_content[i],newquestionid[i], submissionid[i])"
   ]
  },
  {
   "cell_type": "code",
   "execution_count": 19,
   "metadata": {},
   "outputs": [
    {
     "name": "stdout",
     "output_type": "stream",
     "text": [
      "New submission\n",
      "New submission\n",
      "New submission\n",
      "New submission\n",
      "New submission\n"
     ]
    }
   ],
   "source": [
    "for i in range(5):\n",
    "    t.commitSubmission(submissionid[i])"
   ]
  },
  {
   "cell_type": "code",
   "execution_count": 20,
   "metadata": {},
   "outputs": [],
   "source": [
    "requestid = list(range(1,6))\n",
    "for i in range(5):\n",
    "    t.newEvaluation(requestid[i])"
   ]
  },
  {
   "cell_type": "code",
   "execution_count": 21,
   "metadata": {},
   "outputs": [],
   "source": [
    "evaluationid = list(range(1,6))\n",
    "answerid = list(range(1,6))\n",
    "for i in range(5):\n",
    "    t.addScore(score[i],evaluationid[i], answerid[i])"
   ]
  },
  {
   "cell_type": "code",
   "execution_count": 22,
   "metadata": {},
   "outputs": [
    {
     "name": "stdout",
     "output_type": "stream",
     "text": [
      "Submission evaluated\n",
      "Submission evaluated\n",
      "Submission evaluated\n",
      "Submission evaluated\n",
      "Submission evaluated\n"
     ]
    }
   ],
   "source": [
    "for i in range(5):\n",
    "    t.commitEvaluation(evaluationid[i])"
   ]
  }
 ],
 "metadata": {
  "interpreter": {
   "hash": "31f2aee4e71d21fbe5cf8b01ff0e069b9275f58929596ceb00d14d90e3e16cd6"
  },
  "kernelspec": {
   "display_name": "Python 3 (ipykernel)",
   "language": "python",
   "name": "python3"
  },
  "language_info": {
   "codemirror_mode": {
    "name": "ipython",
    "version": 3
   },
   "file_extension": ".py",
   "mimetype": "text/x-python",
   "name": "python",
   "nbconvert_exporter": "python",
   "pygments_lexer": "ipython3",
   "version": "3.9.7"
  }
 },
 "nbformat": 4,
 "nbformat_minor": 2
}
