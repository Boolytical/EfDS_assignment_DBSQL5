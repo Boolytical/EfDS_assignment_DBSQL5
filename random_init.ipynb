{
 "cells": [
  {
   "cell_type": "code",
   "execution_count": 41,
   "metadata": {},
   "outputs": [],
   "source": [
    "#! pip install names\n",
    "#! pip install random_word\n",
    "#! pip install pyyaml\n",
    "from random_word import RandomWords\n",
    "import names\n",
    "import random\n",
    "import string\n",
    "import sys\n",
    "import os\n",
    "sys.path.append(\".\")\n",
    "import numpy as np\n",
    "import curses\n",
    "from gradedb import Gradedb\n",
    "from schema import *"
   ]
  },
  {
   "cell_type": "code",
   "execution_count": 42,
   "metadata": {},
   "outputs": [],
   "source": [
    "t = Gradedb(\"gradedb.db\", False)"
   ]
  },
  {
   "cell_type": "code",
   "execution_count": 43,
   "metadata": {},
   "outputs": [
    {
     "name": "stdout",
     "output_type": "stream",
     "text": [
      "['Marjorie Steele', 'James Morse', 'Dominic Robinson', 'Diana Brown', 'Mary Bakley']\n",
      "['S0416410', 'S0225853', 'S1961057', 'S2204697', 'S4587398']\n",
      "['s0416410@vuw.leidenuniv.nl', 's0225853@vuw.leidenuniv.nl', 's1961057@vuw.leidenuniv.nl', 's2204697@vuw.leidenuniv.nl', 's4587398@vuw.leidenuniv.nl']\n"
     ]
    }
   ],
   "source": [
    "# create random names, studentnumbers and studentemails.\n",
    "random.seed(123)\n",
    "name = []\n",
    "universityID = []\n",
    "email = []\n",
    "for i in range(5):\n",
    "        digits = \"\".join([random.choice(string.digits) for i in range(7)] ) # A string of 7 random numbers between 0 and 9 are created\n",
    "        name.append(names.get_full_name())                                  # Random first and last names are created\n",
    "        universityID.append('S' + digits)                                   # S combined with string of numbers to create studentnumber\n",
    "        email.append('s' + digits + '@vuw.leidenuniv.nl')                   # studentemail with student number is created\n",
    "print(name)\n",
    "print(universityID)\n",
    "print(email) "
   ]
  },
  {
   "cell_type": "code",
   "execution_count": 44,
   "metadata": {},
   "outputs": [
    {
     "name": "stdout",
     "output_type": "stream",
     "text": [
      "['Question 1', 'Question 2', 'Question 3', 'Question 4', 'Question 5', 'Question 6', 'Question 7', 'Question 8', 'Question 9', 'Question 10', 'Question 11', 'Question 12', 'Question 13', 'Question 14', 'Question 15']\n",
      "['Calculate None unwished-for pentasyllabic conpersons spoofable?', 'Over edgers hemophiliacs latitude waiter None?', 'How temperature-curve d6 Gage bleedeth roundure?', 'Calculate None progressor duckpond unify federals?', 'Over viborg weekend incorporator None whift?', 'Calculate projection Clusia CTOs fundiform None?', 'Calculate GCSE goodish typo180 miquelet None?', 'Over cholecysts Greens vermil dunk None?', 'How tromps neurophenomenology coalery impalla None?', 'Over banister Kai commonize plumpy None?', 'Calculate scenarios serrula albatross intracranially None?', 'How snorted erudite counterprotester advertisement None?', 'Where cryptex wernerite factions expound None?', 'Over noncelibate emphasis spoofings waistcloths None?', 'Which numinousness babysitter tut-work MNH None?']\n"
     ]
    }
   ],
   "source": [
    "#question function, here multiple questions are generated\n",
    "question_title = []\n",
    "question_content = []\n",
    "def question():\n",
    "    First_word = (\"Which\", \"What\", \"Where\", \"How\", \"Over\",  \"Calculate\")            # Multiple common starts of a question                                             \n",
    "    word = random.choice(First_word)                                                # One of the question starts is randomly chosen\n",
    "    q = str('?')    \n",
    "    b = str(' ')\n",
    "    r = RandomWords()\n",
    "    for i in range(5):\n",
    "        v = str(r.get_random_word(hasDictionaryDef=\"true\",minLength=1))             # A random word is generated\n",
    "        q = (b + v + q)                                                             # The random word is filled in the sentence with a ? in the end and spaces in between words\n",
    "    Question = (word + q)                                                           # The random start word is combined with the sentence\n",
    "    return(Question)                                                                # A question with random content is created\n",
    "\n",
    "for j in range(15):                                                                 # Multiple questions are created for the database\n",
    "    question_content.append(question())\n",
    "    question_title.append('Question ' + str(j+1))                                   # Questions are given a title\n",
    "print(question_title)   \n",
    "print(question_content) "
   ]
  },
  {
   "cell_type": "code",
   "execution_count": 45,
   "metadata": {},
   "outputs": [
    {
     "name": "stdout",
     "output_type": "stream",
     "text": [
      "['Task 688', 'Task 405', 'Task 871', 'Task 980', 'Task 913']\n",
      "['This is task 688, there are multiple questions you need answer.', 'This is task 405, there are multiple questions you need answer.', 'This is task 871, there are multiple questions you need answer.', 'This is task 980, there are multiple questions you need answer.', 'This is task 913, there are multiple questions you need answer.']\n"
     ]
    }
   ],
   "source": [
    "\n",
    "# a list of Tasks is created\n",
    "random.seed(4567)\n",
    "task_title = []\n",
    "task_content = []\n",
    "for i in range(5):\n",
    "    task_number = \"\".join([random.choice(string.digits) for i in range(3)])     # A string of 3 random numbers between 0 and 9 are created\n",
    "    task_title.append('Task ' + task_number)                                    # A title is created, with the 3 random rask numbers\n",
    "    task_content_text = ('This is task ' + task_number + ', there are multiple questions you need answer.')   # Task content is created, with the 3 random rask numbers\n",
    "    task_content.append(task_content_text)\n",
    "\n",
    "print(task_title)\n",
    "print(task_content)\n"
   ]
  },
  {
   "cell_type": "code",
   "execution_count": 46,
   "metadata": {},
   "outputs": [
    {
     "name": "stdout",
     "output_type": "stream",
     "text": [
      "['Because maize-eater expedite axiomatizability coinable Heath corellas creamed None.', 'Given None right-side-out whittret puissance pib retore Antipater undespatched.', 'Because wool-winder atheists requisitum Calabria algebraization hatchery None unquestionableness.', 'Given kapellmeisters white-letter trout-line japanized twelvemo cosmicism soror None.', 'Concluding impulse-buy unshifted philippize metalleity uninterruptible troped trysails None.', 'Given encyclopedist unoriginate unintermitted occupant newfashioned sidelined alarm-gun None.', 'To calculate spatha myotomes surcingle azine droshky articulation Death None.', 'To calculate maximalist nerve-path videolinks Balor crumpet depolarization straight-spoken None.', 'Given validity unanswerableness self-accusing verderer clinopinacoid trinominal ingredients None.', 'Because sushimi steeps tautophony demineralized unchristened tortie haruspicy None.', 'To calculate None timecourse riskier self-reproaching Parabellum earfuls same Grabar.', 'Given stone-crush D+ remineralization languedoc respecify low-lived asteroseismic None.', 'Given Eng. phelloderm centrifuge wool-carder Kyyiv lidding nonlibertarians None.', 'To calculate carnosa rallentando fascist WTAI surface-printing river-basin curaçao None.', 'In this case spumes accessary retaliations GDC starve alginic transduced None.']\n"
     ]
    }
   ],
   "source": [
    "#answer function \n",
    "answer_content = []\n",
    "def answer():\n",
    "    First_word = (\"Because\", \"In this case\", \"Concluding\", \"Given\", \"Resulting in\",  \"To calculate\")  # Multiple common starts of a answer\n",
    "    word = random.choice(First_word)                                                                  # One of the answer starts is randomly chosen\n",
    "    q = str('.')\n",
    "    b = str(' ')\n",
    "    r = RandomWords()\n",
    "    for i in range(8):\n",
    "        v = str(r.get_random_word(hasDictionaryDef=\"true\",minLength=1))              # A random word is generated\n",
    "        q = (b + v + q)                                                              # The random word is filled in the sentence with a . in the end and spaces in between words\n",
    "    Answer = (word + q)                                                              # The random start word is combined with the sentence\n",
    "    return(Answer)                                                                   # A answer with random content is created\n",
    "\n",
    "for j in range(15):                                                                  # Multiple answers are created for the database\n",
    "    answer_content.append(answer())\n",
    "print(answer_content) "
   ]
  },
  {
   "cell_type": "code",
   "execution_count": 47,
   "metadata": {},
   "outputs": [],
   "source": [
    "score=list(range(1,11))                                                             # A list of scores between 1 and 10 are created"
   ]
  },
  {
   "cell_type": "code",
   "execution_count": 48,
   "metadata": {},
   "outputs": [
    {
     "name": "stdout",
     "output_type": "stream",
     "text": [
      "every name is unique.\n",
      "every idnumber is unique.\n",
      "every task is unique.\n"
     ]
    }
   ],
   "source": [
    "# code to check if the names are unique\n",
    "if(len(set(name)) == len(name)):\n",
    "   print(\"every name is unique.\")\n",
    "else:\n",
    "   print(\"There are copy's, change set.seed\")\n",
    "# code to check if the universityID's are unique\n",
    "if(len(set(universityID)) == len(universityID)):\n",
    "   print(\"every idnumber is unique.\")\n",
    "else:\n",
    "   print(\"There are copy's, change set.seed\")\n",
    "# code to ckeck if the numbers for task are unique\n",
    "if(len(set(task_title)) == len(task_title)):\n",
    "   print(\"every task is unique.\")\n",
    "else:\n",
    "   print(\"There are copy's, change set.seed\")"
   ]
  },
  {
   "cell_type": "code",
   "execution_count": 49,
   "metadata": {},
   "outputs": [
    {
     "name": "stdout",
     "output_type": "stream",
     "text": [
      "['Marjorie Steele', 'James Morse', 'Dominic Robinson', 'Diana Brown', 'Mary Bakley']\n",
      "['S0416410', 'S0225853', 'S1961057', 'S2204697', 'S4587398']\n",
      "['s0416410@vuw.leidenuniv.nl', 's0225853@vuw.leidenuniv.nl', 's1961057@vuw.leidenuniv.nl', 's2204697@vuw.leidenuniv.nl', 's4587398@vuw.leidenuniv.nl']\n",
      "['Question 1', 'Question 2', 'Question 3', 'Question 4', 'Question 5', 'Question 6', 'Question 7', 'Question 8', 'Question 9', 'Question 10', 'Question 11', 'Question 12', 'Question 13', 'Question 14', 'Question 15']\n",
      "['Calculate None unwished-for pentasyllabic conpersons spoofable?', 'Over edgers hemophiliacs latitude waiter None?', 'How temperature-curve d6 Gage bleedeth roundure?', 'Calculate None progressor duckpond unify federals?', 'Over viborg weekend incorporator None whift?', 'Calculate projection Clusia CTOs fundiform None?', 'Calculate GCSE goodish typo180 miquelet None?', 'Over cholecysts Greens vermil dunk None?', 'How tromps neurophenomenology coalery impalla None?', 'Over banister Kai commonize plumpy None?', 'Calculate scenarios serrula albatross intracranially None?', 'How snorted erudite counterprotester advertisement None?', 'Where cryptex wernerite factions expound None?', 'Over noncelibate emphasis spoofings waistcloths None?', 'Which numinousness babysitter tut-work MNH None?']\n",
      "['Task 688', 'Task 405', 'Task 871', 'Task 980', 'Task 913']\n",
      "['This is task 688, there are multiple questions you need answer.', 'This is task 405, there are multiple questions you need answer.', 'This is task 871, there are multiple questions you need answer.', 'This is task 980, there are multiple questions you need answer.', 'This is task 913, there are multiple questions you need answer.']\n",
      "['Because maize-eater expedite axiomatizability coinable Heath corellas creamed None.', 'Given None right-side-out whittret puissance pib retore Antipater undespatched.', 'Because wool-winder atheists requisitum Calabria algebraization hatchery None unquestionableness.', 'Given kapellmeisters white-letter trout-line japanized twelvemo cosmicism soror None.', 'Concluding impulse-buy unshifted philippize metalleity uninterruptible troped trysails None.', 'Given encyclopedist unoriginate unintermitted occupant newfashioned sidelined alarm-gun None.', 'To calculate spatha myotomes surcingle azine droshky articulation Death None.', 'To calculate maximalist nerve-path videolinks Balor crumpet depolarization straight-spoken None.', 'Given validity unanswerableness self-accusing verderer clinopinacoid trinominal ingredients None.', 'Because sushimi steeps tautophony demineralized unchristened tortie haruspicy None.', 'To calculate None timecourse riskier self-reproaching Parabellum earfuls same Grabar.', 'Given stone-crush D+ remineralization languedoc respecify low-lived asteroseismic None.', 'Given Eng. phelloderm centrifuge wool-carder Kyyiv lidding nonlibertarians None.', 'To calculate carnosa rallentando fascist WTAI surface-printing river-basin curaçao None.', 'In this case spumes accessary retaliations GDC starve alginic transduced None.']\n",
      "[1, 2, 3, 4, 5, 6, 7, 8, 9, 10]\n"
     ]
    }
   ],
   "source": [
    "# All the created output\n",
    "print(name)\n",
    "print(universityID)\n",
    "print(email)\n",
    "print(question_title)   \n",
    "print(question_content) \n",
    "print(task_title)\n",
    "print(task_content)\n",
    "print(answer_content) \n",
    "print(score)"
   ]
  },
  {
   "cell_type": "code",
   "execution_count": 50,
   "metadata": {},
   "outputs": [],
   "source": [
    "for i in range(len(name)):\n",
    "    t.addStudent(name[i], email[i], universityID[i])\n"
   ]
  },
  {
   "cell_type": "code",
   "execution_count": 51,
   "metadata": {},
   "outputs": [],
   "source": [
    "for i in range(len(question_title)):\n",
    "    t.addQuestion(question_title[i],question_content[i])"
   ]
  },
  {
   "cell_type": "code",
   "execution_count": 52,
   "metadata": {},
   "outputs": [],
   "source": [
    "random.seed(123)\n",
    "res = t.newSession().query(Question.questionid).all()\n",
    "questionids = []\n",
    "for i in res:\n",
    "       questionids.append(i[0])\n",
    "\n",
    "for i in range(len(task_title)):\n",
    "    rs = random.sample(questionids, 3)\n",
    "    t.addTask(rs, task_title[i], task_content[i])"
   ]
  },
  {
   "cell_type": "code",
   "execution_count": 53,
   "metadata": {},
   "outputs": [
    {
     "name": "stdout",
     "output_type": "stream",
     "text": [
      "New assignment added\n",
      "New assignment added\n",
      "New assignment added\n",
      "New assignment added\n",
      "New assignment added\n",
      "New assignment added\n",
      "New assignment added\n",
      "New assignment added\n",
      "New assignment added\n",
      "New assignment added\n",
      "New assignment added\n",
      "New assignment added\n",
      "New assignment added\n",
      "New assignment added\n",
      "New assignment added\n"
     ]
    }
   ],
   "source": [
    "random.seed(123)\n",
    "taskid = t.newSession().query(Task.taskid).all()\n",
    "for i in range(len(name)):\n",
    "    ra = random.sample(taskid, 3)\n",
    "    for j in range(len(ra)):\n",
    "        t.addAssignment(universityID[i],ra[j][0])"
   ]
  },
  {
   "cell_type": "code",
   "execution_count": 54,
   "metadata": {},
   "outputs": [],
   "source": [
    "assignmentid = t.newSession().query(Assignment.assignmentid).all()\n",
    "for i in range(len(assignmentid)):\n",
    "    t.newSubmission(assignmentid[i][0])"
   ]
  },
  {
   "cell_type": "code",
   "execution_count": 55,
   "metadata": {},
   "outputs": [],
   "source": [
    "random.seed(123)\n",
    "submissions = t.newSession().query(Submission).all()\n",
    "for i in range(len(question_title)):\n",
    "    sel_sub_id = random.choice(submissions)\n",
    "    assignment = sel_sub_id.assignmentid\n",
    "    result = t.newSession().query(Assignment.taskid).where(Assignment.assignmentid == assignment).all()\n",
    "    task_id = result[0][0]\n",
    "    task_questions = t.newSession().query(Task_question.questionid).where(Task_question.taskid == task_id).all()\n",
    "    select_question = random.choice(task_questions)\n",
    "    t.addAnswer(answer_content[i], select_question[0], sel_sub_id.submissionid)"
   ]
  },
  {
   "cell_type": "code",
   "execution_count": 56,
   "metadata": {},
   "outputs": [
    {
     "name": "stdout",
     "output_type": "stream",
     "text": [
      "New submission\n",
      "New submission\n",
      "New submission\n",
      "New submission\n",
      "New submission\n",
      "New submission\n",
      "New submission\n",
      "New submission\n",
      "New submission\n",
      "New submission\n",
      "New submission\n",
      "New submission\n",
      "New submission\n",
      "New submission\n",
      "New submission\n"
     ]
    }
   ],
   "source": [
    "random.seed(123)\n",
    "for i in range(len(submissions)):\n",
    "    select_submission = random.choice(submissions)\n",
    "    select_index = submissions.index(select_submission)\n",
    "    submissions.pop(select_index)\n",
    "    t.commitSubmission(select_submission.submissionid)"
   ]
  },
  {
   "cell_type": "code",
   "execution_count": 57,
   "metadata": {},
   "outputs": [],
   "source": [
    "ev_requests = t.newSession().query(EvaluationRequest.requestid).all()\n",
    "for i in range(len(ev_requests)):\n",
    "    t.newEvaluation(ev_requests[i][0])"
   ]
  },
  {
   "cell_type": "code",
   "execution_count": 58,
   "metadata": {},
   "outputs": [],
   "source": [
    "random.seed(123)\n",
    "evals = t.newSession().query(Evaluation).all()\n",
    "for i in evals:\n",
    "    sub_id = t.newSession().query(EvaluationRequest.submissionid).where(EvaluationRequest.requestid == i.requestid).all()\n",
    "    if len(sub_id) == 0:\n",
    "        continue\n",
    "    answer = t.newSession().query(Answers.answerid).where(Answers.submissionid == sub_id[0][0]).all()\n",
    "    if len(answer) == 0:\n",
    "        continue\n",
    "    sc = random.choice(score)\n",
    "    t.addScore(sc, i.evaluationid, answer[0][0])"
   ]
  },
  {
   "cell_type": "code",
   "execution_count": 59,
   "metadata": {},
   "outputs": [
    {
     "name": "stdout",
     "output_type": "stream",
     "text": [
      "Submission evaluated\n",
      "Submission evaluated\n",
      "Submission evaluated\n",
      "Submission evaluated\n",
      "Submission evaluated\n",
      "Submission evaluated\n",
      "Submission evaluated\n",
      "Submission evaluated\n",
      "Submission evaluated\n",
      "Submission evaluated\n",
      "Submission evaluated\n"
     ]
    }
   ],
   "source": [
    "eval_ids = t.newSession().query(Scores.evaluationid).all()\n",
    "if len(eval_ids) == 0:\n",
    "        print(\"No evaluation ids found\")\n",
    "else:\n",
    "        for i in range(len(eval_ids)):\n",
    "                t.commitEvaluation(eval_ids[i][0])"
   ]
  },
  {
   "cell_type": "code",
   "execution_count": null,
   "metadata": {},
   "outputs": [],
   "source": []
  }
 ],
 "metadata": {
  "interpreter": {
   "hash": "31f2aee4e71d21fbe5cf8b01ff0e069b9275f58929596ceb00d14d90e3e16cd6"
  },
  "kernelspec": {
   "display_name": "Python 3 (ipykernel)",
   "language": "python",
   "name": "python3"
  },
  "language_info": {
   "codemirror_mode": {
    "name": "ipython",
    "version": 3
   },
   "file_extension": ".py",
   "mimetype": "text/x-python",
   "name": "python",
   "nbconvert_exporter": "python",
   "pygments_lexer": "ipython3",
   "version": "3.8.2"
  }
 },
 "nbformat": 4,
 "nbformat_minor": 2
}
