{
 "cells": [
  {
   "cell_type": "code",
   "execution_count": null,
   "metadata": {},
   "outputs": [],
   "source": [
    "! pip install ipython-sql \n",
    "import sqlite3\n",
    "import pandas as pd\n",
    "from sqlalchemy import *\n",
    "from gradedb import Gradedb\n",
    "from schema import *"
   ]
  },
  {
   "cell_type": "code",
   "execution_count": 1,
   "metadata": {},
   "outputs": [],
   "source": [
    "%load_ext sql\n",
    "%sql sqlite:///gradedb.db"
   ]
  },
  {
   "cell_type": "code",
   "execution_count": 14,
   "metadata": {},
   "outputs": [
    {
     "name": "stdout",
     "output_type": "stream",
     "text": [
      " * sqlite:///gradedb.db\n",
      "Done.\n"
     ]
    },
    {
     "data": {
      "text/html": [
       "<table>\n",
       "    <tr>\n",
       "        <th>assignmentid</th>\n",
       "        <th>universityid</th>\n",
       "        <th>taskid</th>\n",
       "    </tr>\n",
       "    <tr>\n",
       "        <td>1</td>\n",
       "        <td>S0416410</td>\n",
       "        <td>1</td>\n",
       "    </tr>\n",
       "    <tr>\n",
       "        <td>2</td>\n",
       "        <td>S0225853</td>\n",
       "        <td>2</td>\n",
       "    </tr>\n",
       "    <tr>\n",
       "        <td>3</td>\n",
       "        <td>S1961057</td>\n",
       "        <td>3</td>\n",
       "    </tr>\n",
       "    <tr>\n",
       "        <td>4</td>\n",
       "        <td>S2204697</td>\n",
       "        <td>4</td>\n",
       "    </tr>\n",
       "    <tr>\n",
       "        <td>5</td>\n",
       "        <td>S4587398</td>\n",
       "        <td>5</td>\n",
       "    </tr>\n",
       "</table>"
      ],
      "text/plain": [
       "[(1, 'S0416410', 1),\n",
       " (2, 'S0225853', 2),\n",
       " (3, 'S1961057', 3),\n",
       " (4, 'S2204697', 4),\n",
       " (5, 'S4587398', 5)]"
      ]
     },
     "execution_count": 14,
     "metadata": {},
     "output_type": "execute_result"
    }
   ],
   "source": [
    "%%sql\n",
    "SELECT *\n",
    "  FROM Assignment\n",
    "\n",
    "  "
   ]
  },
  {
   "cell_type": "code",
   "execution_count": 15,
   "metadata": {},
   "outputs": [
    {
     "name": "stdout",
     "output_type": "stream",
     "text": [
      " * sqlite:///gradedb.db\n",
      "Done.\n"
     ]
    },
    {
     "data": {
      "text/html": [
       "<table>\n",
       "    <tr>\n",
       "        <th>universityid</th>\n",
       "        <th>name</th>\n",
       "        <th>email</th>\n",
       "    </tr>\n",
       "    <tr>\n",
       "        <td>S0416410</td>\n",
       "        <td>Marjorie Steele</td>\n",
       "        <td>0416410@vuw.leidenuniv.nl</td>\n",
       "    </tr>\n",
       "    <tr>\n",
       "        <td>S0225853</td>\n",
       "        <td>James Morse</td>\n",
       "        <td>0225853@vuw.leidenuniv.nl</td>\n",
       "    </tr>\n",
       "    <tr>\n",
       "        <td>S1961057</td>\n",
       "        <td>Dominic Robinson</td>\n",
       "        <td>1961057@vuw.leidenuniv.nl</td>\n",
       "    </tr>\n",
       "    <tr>\n",
       "        <td>S2204697</td>\n",
       "        <td>Diana Brown</td>\n",
       "        <td>2204697@vuw.leidenuniv.nl</td>\n",
       "    </tr>\n",
       "    <tr>\n",
       "        <td>S4587398</td>\n",
       "        <td>Mary Bakley</td>\n",
       "        <td>4587398@vuw.leidenuniv.nl</td>\n",
       "    </tr>\n",
       "</table>"
      ],
      "text/plain": [
       "[('S0416410', 'Marjorie Steele', '0416410@vuw.leidenuniv.nl'),\n",
       " ('S0225853', 'James Morse', '0225853@vuw.leidenuniv.nl'),\n",
       " ('S1961057', 'Dominic Robinson', '1961057@vuw.leidenuniv.nl'),\n",
       " ('S2204697', 'Diana Brown', '2204697@vuw.leidenuniv.nl'),\n",
       " ('S4587398', 'Mary Bakley', '4587398@vuw.leidenuniv.nl')]"
      ]
     },
     "execution_count": 15,
     "metadata": {},
     "output_type": "execute_result"
    }
   ],
   "source": [
    "%%sql\n",
    "SELECT *\n",
    "  FROM Student\n",
    "  \n"
   ]
  },
  {
   "cell_type": "code",
   "execution_count": 16,
   "metadata": {},
   "outputs": [
    {
     "name": "stdout",
     "output_type": "stream",
     "text": [
      " * sqlite:///gradedb.db\n",
      "Done.\n"
     ]
    },
    {
     "data": {
      "text/html": [
       "<table>\n",
       "    <tr>\n",
       "        <th>questionid</th>\n",
       "        <th>title</th>\n",
       "        <th>content</th>\n",
       "    </tr>\n",
       "    <tr>\n",
       "        <td>1</td>\n",
       "        <td>Question 1</td>\n",
       "        <td>Over here-remain night-key guariba ipes soliloquy?</td>\n",
       "    </tr>\n",
       "    <tr>\n",
       "        <td>2</td>\n",
       "        <td>Question 2</td>\n",
       "        <td>Calculate hedge-shrew sundogs choriogonadotropin octad Jacobean?</td>\n",
       "    </tr>\n",
       "    <tr>\n",
       "        <td>3</td>\n",
       "        <td>Question 3</td>\n",
       "        <td>Calculate treacher nautic bugbears flush-decked catheterisations?</td>\n",
       "    </tr>\n",
       "    <tr>\n",
       "        <td>4</td>\n",
       "        <td>Question 4</td>\n",
       "        <td>Over well-meaningly eccentric-strap beautes agflation mountainslope?</td>\n",
       "    </tr>\n",
       "    <tr>\n",
       "        <td>5</td>\n",
       "        <td>Question 5</td>\n",
       "        <td>Over kurus ramshackly Ndongo pupipara streptavidin?</td>\n",
       "    </tr>\n",
       "    <tr>\n",
       "        <td>6</td>\n",
       "        <td>Question 6</td>\n",
       "        <td>How war-hammer Wolff sausagemeat metronomically cognacy?</td>\n",
       "    </tr>\n",
       "    <tr>\n",
       "        <td>7</td>\n",
       "        <td>Question 7</td>\n",
       "        <td>Over impurities thiosulphates gâteaux photozincographic Flevoland?</td>\n",
       "    </tr>\n",
       "    <tr>\n",
       "        <td>8</td>\n",
       "        <td>Question 8</td>\n",
       "        <td>Calculate selva homeloan troused hulas water-bells?</td>\n",
       "    </tr>\n",
       "    <tr>\n",
       "        <td>9</td>\n",
       "        <td>Question 9</td>\n",
       "        <td>Calculate sororal ARVIN Pekingese villified enveigle?</td>\n",
       "    </tr>\n",
       "    <tr>\n",
       "        <td>10</td>\n",
       "        <td>Question 10</td>\n",
       "        <td>How vintaged unsweetens tammies trub Noor?</td>\n",
       "    </tr>\n",
       "    <tr>\n",
       "        <td>11</td>\n",
       "        <td>Question 11</td>\n",
       "        <td>Where theopneustic unhelmeted nullify outspelled autoantibodies?</td>\n",
       "    </tr>\n",
       "    <tr>\n",
       "        <td>12</td>\n",
       "        <td>Question 12</td>\n",
       "        <td>Where wander-year undersigns speak-easy homeboys gelato?</td>\n",
       "    </tr>\n",
       "    <tr>\n",
       "        <td>13</td>\n",
       "        <td>Question 13</td>\n",
       "        <td>Over twich question devourment unslept unprohibited?</td>\n",
       "    </tr>\n",
       "    <tr>\n",
       "        <td>14</td>\n",
       "        <td>Question 14</td>\n",
       "        <td>Which emptiness flopper cardiology mangue mouter?</td>\n",
       "    </tr>\n",
       "    <tr>\n",
       "        <td>15</td>\n",
       "        <td>Question 15</td>\n",
       "        <td>How estranger propogating time-line spaceport BAF?</td>\n",
       "    </tr>\n",
       "</table>"
      ],
      "text/plain": [
       "[(1, 'Question 1', 'Over here-remain night-key guariba ipes soliloquy?'),\n",
       " (2, 'Question 2', 'Calculate hedge-shrew sundogs choriogonadotropin octad Jacobean?'),\n",
       " (3, 'Question 3', 'Calculate treacher nautic bugbears flush-decked catheterisations?'),\n",
       " (4, 'Question 4', 'Over well-meaningly eccentric-strap beautes agflation mountainslope?'),\n",
       " (5, 'Question 5', 'Over kurus ramshackly Ndongo pupipara streptavidin?'),\n",
       " (6, 'Question 6', 'How war-hammer Wolff sausagemeat metronomically cognacy?'),\n",
       " (7, 'Question 7', 'Over impurities thiosulphates gâteaux photozincographic Flevoland?'),\n",
       " (8, 'Question 8', 'Calculate selva homeloan troused hulas water-bells?'),\n",
       " (9, 'Question 9', 'Calculate sororal ARVIN Pekingese villified enveigle?'),\n",
       " (10, 'Question 10', 'How vintaged unsweetens tammies trub Noor?'),\n",
       " (11, 'Question 11', 'Where theopneustic unhelmeted nullify outspelled autoantibodies?'),\n",
       " (12, 'Question 12', 'Where wander-year undersigns speak-easy homeboys gelato?'),\n",
       " (13, 'Question 13', 'Over twich question devourment unslept unprohibited?'),\n",
       " (14, 'Question 14', 'Which emptiness flopper cardiology mangue mouter?'),\n",
       " (15, 'Question 15', 'How estranger propogating time-line spaceport BAF?')]"
      ]
     },
     "execution_count": 16,
     "metadata": {},
     "output_type": "execute_result"
    }
   ],
   "source": [
    "%%sql\n",
    "SELECT *\n",
    "  FROM Question"
   ]
  },
  {
   "cell_type": "code",
   "execution_count": 17,
   "metadata": {},
   "outputs": [
    {
     "name": "stdout",
     "output_type": "stream",
     "text": [
      " * sqlite:///gradedb.db\n",
      "Done.\n"
     ]
    },
    {
     "data": {
      "text/html": [
       "<table>\n",
       "    <tr>\n",
       "        <th>answerid</th>\n",
       "        <th>content</th>\n",
       "        <th>questionId</th>\n",
       "        <th>submissionid</th>\n",
       "    </tr>\n",
       "    <tr>\n",
       "        <td>1</td>\n",
       "        <td>Given Nagorno-Karabakh Khachaturian long-playing araneida elective bedsitters intuitional plinth.</td>\n",
       "        <td>6</td>\n",
       "        <td>2</td>\n",
       "    </tr>\n",
       "    <tr>\n",
       "        <td>2</td>\n",
       "        <td>Given UMTS γ-rays known portobello unsew avocations cabinetry obliterated.</td>\n",
       "        <td>6</td>\n",
       "        <td>4</td>\n",
       "    </tr>\n",
       "    <tr>\n",
       "        <td>3</td>\n",
       "        <td>Given glamourie undistracted sealife depotentiate tarradiddle spencers invigilates droppings.</td>\n",
       "        <td>7</td>\n",
       "        <td>2</td>\n",
       "    </tr>\n",
       "    <tr>\n",
       "        <td>4</td>\n",
       "        <td>To calculate hopsack entryless teamster tetrahydrozoline hassocks unswathing Mosby thrillful.</td>\n",
       "        <td>6</td>\n",
       "        <td>4</td>\n",
       "    </tr>\n",
       "    <tr>\n",
       "        <td>5</td>\n",
       "        <td>Because surface-velocity rigorous trippers transamination Japanophobia paterfamiliar playlists curtilages.</td>\n",
       "        <td>3</td>\n",
       "        <td>3</td>\n",
       "    </tr>\n",
       "</table>"
      ],
      "text/plain": [
       "[(1, 'Given Nagorno-Karabakh Khachaturian long-playing araneida elective bedsitters intuitional plinth.', 6, 2),\n",
       " (2, 'Given UMTS γ-rays known portobello unsew avocations cabinetry obliterated.', 6, 4),\n",
       " (3, 'Given glamourie undistracted sealife depotentiate tarradiddle spencers invigilates droppings.', 7, 2),\n",
       " (4, 'To calculate hopsack entryless teamster tetrahydrozoline hassocks unswathing Mosby thrillful.', 6, 4),\n",
       " (5, 'Because surface-velocity rigorous trippers transamination Japanophobia paterfamiliar playlists curtilages.', 3, 3)]"
      ]
     },
     "execution_count": 17,
     "metadata": {},
     "output_type": "execute_result"
    }
   ],
   "source": [
    "  \n",
    "%%sql\n",
    "SELECT *\n",
    "  FROM Answers\n"
   ]
  },
  {
   "cell_type": "code",
   "execution_count": 19,
   "metadata": {},
   "outputs": [
    {
     "name": "stdout",
     "output_type": "stream",
     "text": [
      " * sqlite:///gradedb.db\n",
      "Done.\n"
     ]
    },
    {
     "data": {
      "text/html": [
       "<table>\n",
       "    <tr>\n",
       "        <th>taskid</th>\n",
       "        <th>title</th>\n",
       "        <th>content</th>\n",
       "    </tr>\n",
       "    <tr>\n",
       "        <td>1</td>\n",
       "        <td>Task 688</td>\n",
       "        <td>This is task 688, there are multiple questions you need answer.</td>\n",
       "    </tr>\n",
       "    <tr>\n",
       "        <td>2</td>\n",
       "        <td>Task 405</td>\n",
       "        <td>This is task 405, there are multiple questions you need answer.</td>\n",
       "    </tr>\n",
       "    <tr>\n",
       "        <td>3</td>\n",
       "        <td>Task 871</td>\n",
       "        <td>This is task 871, there are multiple questions you need answer.</td>\n",
       "    </tr>\n",
       "    <tr>\n",
       "        <td>4</td>\n",
       "        <td>Task 980</td>\n",
       "        <td>This is task 980, there are multiple questions you need answer.</td>\n",
       "    </tr>\n",
       "    <tr>\n",
       "        <td>5</td>\n",
       "        <td>Task 913</td>\n",
       "        <td>This is task 913, there are multiple questions you need answer.</td>\n",
       "    </tr>\n",
       "</table>"
      ],
      "text/plain": [
       "[(1, 'Task 688', 'This is task 688, there are multiple questions you need answer.'),\n",
       " (2, 'Task 405', 'This is task 405, there are multiple questions you need answer.'),\n",
       " (3, 'Task 871', 'This is task 871, there are multiple questions you need answer.'),\n",
       " (4, 'Task 980', 'This is task 980, there are multiple questions you need answer.'),\n",
       " (5, 'Task 913', 'This is task 913, there are multiple questions you need answer.')]"
      ]
     },
     "execution_count": 19,
     "metadata": {},
     "output_type": "execute_result"
    }
   ],
   "source": [
    "  \n",
    "%%sql\n",
    "SELECT *\n",
    "  FROM Task\n"
   ]
  },
  {
   "cell_type": "code",
   "execution_count": 20,
   "metadata": {},
   "outputs": [
    {
     "name": "stdout",
     "output_type": "stream",
     "text": [
      " * sqlite:///gradedb.db\n",
      "Done.\n"
     ]
    },
    {
     "data": {
      "text/html": [
       "<table>\n",
       "    <tr>\n",
       "        <th>id</th>\n",
       "        <th>taskid</th>\n",
       "        <th>questionid</th>\n",
       "    </tr>\n",
       "    <tr>\n",
       "        <td>1</td>\n",
       "        <td>1</td>\n",
       "        <td>5</td>\n",
       "    </tr>\n",
       "    <tr>\n",
       "        <td>2</td>\n",
       "        <td>1</td>\n",
       "        <td>8</td>\n",
       "    </tr>\n",
       "    <tr>\n",
       "        <td>3</td>\n",
       "        <td>1</td>\n",
       "        <td>1</td>\n",
       "    </tr>\n",
       "    <tr>\n",
       "        <td>4</td>\n",
       "        <td>2</td>\n",
       "        <td>10</td>\n",
       "    </tr>\n",
       "    <tr>\n",
       "        <td>5</td>\n",
       "        <td>2</td>\n",
       "        <td>7</td>\n",
       "    </tr>\n",
       "    <tr>\n",
       "        <td>6</td>\n",
       "        <td>2</td>\n",
       "        <td>6</td>\n",
       "    </tr>\n",
       "    <tr>\n",
       "        <td>7</td>\n",
       "        <td>3</td>\n",
       "        <td>3</td>\n",
       "    </tr>\n",
       "    <tr>\n",
       "        <td>8</td>\n",
       "        <td>3</td>\n",
       "        <td>2</td>\n",
       "    </tr>\n",
       "    <tr>\n",
       "        <td>9</td>\n",
       "        <td>3</td>\n",
       "        <td>10</td>\n",
       "    </tr>\n",
       "    <tr>\n",
       "        <td>10</td>\n",
       "        <td>4</td>\n",
       "        <td>15</td>\n",
       "    </tr>\n",
       "    <tr>\n",
       "        <td>11</td>\n",
       "        <td>4</td>\n",
       "        <td>6</td>\n",
       "    </tr>\n",
       "    <tr>\n",
       "        <td>12</td>\n",
       "        <td>4</td>\n",
       "        <td>11</td>\n",
       "    </tr>\n",
       "    <tr>\n",
       "        <td>13</td>\n",
       "        <td>5</td>\n",
       "        <td>13</td>\n",
       "    </tr>\n",
       "    <tr>\n",
       "        <td>14</td>\n",
       "        <td>5</td>\n",
       "        <td>5</td>\n",
       "    </tr>\n",
       "    <tr>\n",
       "        <td>15</td>\n",
       "        <td>5</td>\n",
       "        <td>1</td>\n",
       "    </tr>\n",
       "</table>"
      ],
      "text/plain": [
       "[(1, 1, 5),\n",
       " (2, 1, 8),\n",
       " (3, 1, 1),\n",
       " (4, 2, 10),\n",
       " (5, 2, 7),\n",
       " (6, 2, 6),\n",
       " (7, 3, 3),\n",
       " (8, 3, 2),\n",
       " (9, 3, 10),\n",
       " (10, 4, 15),\n",
       " (11, 4, 6),\n",
       " (12, 4, 11),\n",
       " (13, 5, 13),\n",
       " (14, 5, 5),\n",
       " (15, 5, 1)]"
      ]
     },
     "execution_count": 20,
     "metadata": {},
     "output_type": "execute_result"
    }
   ],
   "source": [
    "  \n",
    "%%sql\n",
    "SELECT *\n",
    "  FROM Task_question"
   ]
  },
  {
   "cell_type": "code",
   "execution_count": 21,
   "metadata": {},
   "outputs": [
    {
     "name": "stdout",
     "output_type": "stream",
     "text": [
      " * sqlite:///gradedb.db\n",
      "Done.\n"
     ]
    },
    {
     "data": {
      "text/html": [
       "<table>\n",
       "    <tr>\n",
       "        <th>submissionid</th>\n",
       "        <th>assignmentid</th>\n",
       "    </tr>\n",
       "    <tr>\n",
       "        <td>1</td>\n",
       "        <td>1</td>\n",
       "    </tr>\n",
       "    <tr>\n",
       "        <td>2</td>\n",
       "        <td>2</td>\n",
       "    </tr>\n",
       "    <tr>\n",
       "        <td>3</td>\n",
       "        <td>3</td>\n",
       "    </tr>\n",
       "    <tr>\n",
       "        <td>4</td>\n",
       "        <td>4</td>\n",
       "    </tr>\n",
       "    <tr>\n",
       "        <td>5</td>\n",
       "        <td>5</td>\n",
       "    </tr>\n",
       "</table>"
      ],
      "text/plain": [
       "[(1, 1), (2, 2), (3, 3), (4, 4), (5, 5)]"
      ]
     },
     "execution_count": 21,
     "metadata": {},
     "output_type": "execute_result"
    }
   ],
   "source": [
    "%%sql\n",
    "SELECT *\n",
    "  FROM Submission\n",
    "  "
   ]
  },
  {
   "cell_type": "code",
   "execution_count": 22,
   "metadata": {},
   "outputs": [
    {
     "name": "stdout",
     "output_type": "stream",
     "text": [
      " * sqlite:///gradedb.db\n",
      "Done.\n"
     ]
    },
    {
     "data": {
      "text/html": [
       "<table>\n",
       "    <tr>\n",
       "        <th>evaluationid</th>\n",
       "        <th>requestid</th>\n",
       "    </tr>\n",
       "    <tr>\n",
       "        <td>1</td>\n",
       "        <td>1</td>\n",
       "    </tr>\n",
       "    <tr>\n",
       "        <td>2</td>\n",
       "        <td>2</td>\n",
       "    </tr>\n",
       "    <tr>\n",
       "        <td>3</td>\n",
       "        <td>3</td>\n",
       "    </tr>\n",
       "    <tr>\n",
       "        <td>4</td>\n",
       "        <td>4</td>\n",
       "    </tr>\n",
       "    <tr>\n",
       "        <td>5</td>\n",
       "        <td>5</td>\n",
       "    </tr>\n",
       "</table>"
      ],
      "text/plain": [
       "[(1, 1), (2, 2), (3, 3), (4, 4), (5, 5)]"
      ]
     },
     "execution_count": 22,
     "metadata": {},
     "output_type": "execute_result"
    }
   ],
   "source": [
    "%%sql\n",
    "SELECT *\n",
    "  FROM Evaluation"
   ]
  },
  {
   "cell_type": "code",
   "execution_count": 23,
   "metadata": {},
   "outputs": [
    {
     "name": "stdout",
     "output_type": "stream",
     "text": [
      " * sqlite:///gradedb.db\n",
      "Done.\n"
     ]
    },
    {
     "data": {
      "text/html": [
       "<table>\n",
       "    <tr>\n",
       "        <th>requestid</th>\n",
       "        <th>submissionid</th>\n",
       "    </tr>\n",
       "    <tr>\n",
       "        <td>1</td>\n",
       "        <td>3</td>\n",
       "    </tr>\n",
       "    <tr>\n",
       "        <td>2</td>\n",
       "        <td>4</td>\n",
       "    </tr>\n",
       "    <tr>\n",
       "        <td>3</td>\n",
       "        <td>2</td>\n",
       "    </tr>\n",
       "    <tr>\n",
       "        <td>4</td>\n",
       "        <td>5</td>\n",
       "    </tr>\n",
       "    <tr>\n",
       "        <td>5</td>\n",
       "        <td>1</td>\n",
       "    </tr>\n",
       "</table>"
      ],
      "text/plain": [
       "[(1, 3), (2, 4), (3, 2), (4, 5), (5, 1)]"
      ]
     },
     "execution_count": 23,
     "metadata": {},
     "output_type": "execute_result"
    }
   ],
   "source": [
    "%%sql\n",
    "SELECT *\n",
    "  FROM EvaluationRequest\n"
   ]
  },
  {
   "cell_type": "code",
   "execution_count": 24,
   "metadata": {},
   "outputs": [
    {
     "name": "stdout",
     "output_type": "stream",
     "text": [
      " * sqlite:///gradedb.db\n",
      "Done.\n"
     ]
    },
    {
     "data": {
      "text/html": [
       "<table>\n",
       "    <tr>\n",
       "        <th>finishedid</th>\n",
       "        <th>evaluationid</th>\n",
       "    </tr>\n",
       "</table>"
      ],
      "text/plain": [
       "[]"
      ]
     },
     "execution_count": 24,
     "metadata": {},
     "output_type": "execute_result"
    }
   ],
   "source": [
    "  \n",
    "%%sql\n",
    "SELECT *\n",
    "  FROM EvaluationFinished\n"
   ]
  },
  {
   "cell_type": "code",
   "execution_count": 25,
   "metadata": {},
   "outputs": [
    {
     "name": "stdout",
     "output_type": "stream",
     "text": [
      " * sqlite:///gradedb.db\n",
      "Done.\n"
     ]
    },
    {
     "data": {
      "text/html": [
       "<table>\n",
       "    <tr>\n",
       "        <th>scoreid</th>\n",
       "        <th>value</th>\n",
       "        <th>answerid</th>\n",
       "        <th>evaluationid</th>\n",
       "    </tr>\n",
       "    <tr>\n",
       "        <td>1</td>\n",
       "        <td>1</td>\n",
       "        <td>5</td>\n",
       "        <td>1</td>\n",
       "    </tr>\n",
       "    <tr>\n",
       "        <td>2</td>\n",
       "        <td>9</td>\n",
       "        <td>2</td>\n",
       "        <td>2</td>\n",
       "    </tr>\n",
       "    <tr>\n",
       "        <td>3</td>\n",
       "        <td>7</td>\n",
       "        <td>1</td>\n",
       "        <td>3</td>\n",
       "    </tr>\n",
       "</table>"
      ],
      "text/plain": [
       "[(1, 1, 5, 1), (2, 9, 2, 2), (3, 7, 1, 3)]"
      ]
     },
     "execution_count": 25,
     "metadata": {},
     "output_type": "execute_result"
    }
   ],
   "source": [
    "%%sql\n",
    "SELECT *\n",
    "  FROM Scores"
   ]
  }
 ],
 "metadata": {
  "interpreter": {
   "hash": "31f2aee4e71d21fbe5cf8b01ff0e069b9275f58929596ceb00d14d90e3e16cd6"
  },
  "kernelspec": {
   "display_name": "Python 3.8.2 64-bit",
   "language": "python",
   "name": "python3"
  },
  "language_info": {
   "codemirror_mode": {
    "name": "ipython",
    "version": 3
   },
   "file_extension": ".py",
   "mimetype": "text/x-python",
   "name": "python",
   "nbconvert_exporter": "python",
   "pygments_lexer": "ipython3",
   "version": "3.9.7"
  },
  "orig_nbformat": 4
 },
 "nbformat": 4,
 "nbformat_minor": 2
}
