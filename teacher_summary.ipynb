{
 "cells": [
  {
   "cell_type": "code",
   "execution_count": null,
   "metadata": {},
   "outputs": [],
   "source": [
    "#! pip install ipython-sql \n",
    "import sqlite3\n",
    "import pandas as pd\n",
    "from sqlalchemy import *\n",
    "from gradedb import Gradedb\n",
    "from schema import *\n",
    "import matplotlib.pyplot as plt"
   ]
  },
  {
   "cell_type": "code",
   "execution_count": null,
   "metadata": {},
   "outputs": [],
   "source": [
    "%load_ext sql\n",
    "%sql sqlite:///gradedb.db\n",
    "engine = create_engine(\"sqlite:///gradedb.db\")"
   ]
  },
  {
   "cell_type": "code",
   "execution_count": null,
   "metadata": {},
   "outputs": [],
   "source": [
    "Task_summ = text(''' SELECT \n",
    "    stu.universityid,\n",
    "    stu.name AS 'Student Name',\n",
    "    stu.email AS 'Student Email',\n",
    "    tk.title AS 'Assignment',\n",
    "    qu.title AS 'Question Title',\n",
    "    qu.content AS 'Question Content',\n",
    "    an.content AS 'Answer Content',\n",
    "    sc.value AS 'Score'\n",
    "  FROM Student stu\n",
    "  LEFT JOIN Assignment asg ON asg.universityid = stu.universityid\n",
    "  LEfT JOIN Task tk ON tk.taskid = asg.taskid\n",
    "  LEFT JOIN Task_question tq ON tq.taskid = asg.taskid\n",
    "  LEFT JOIN Question qu ON qu.questionid = tq.questionid\n",
    "  LEFT JOIN Answers an ON an.questionid = tq.questionid\n",
    "  LEFT JOIN Submission sb ON sb.assignmentid = asg.assignmentid\n",
    "  LEFT JOIN EvaluationRequest er ON er.submissionid = sb.submissionid\n",
    "  LEFT JOIN Evaluation ev ON ev.requestid = er.requestid\n",
    "  LEFT JOIN EvaluationFinished ef ON ef.evaluationid = ev.evaluationid\n",
    "  LEFT JOIN Scores sc ON sc.evaluationid = ev.evaluationid\n",
    "  ''')"
   ]
  }
 ],
 "metadata": {
  "language_info": {
   "name": "python"
  },
  "orig_nbformat": 4
 },
 "nbformat": 4,
 "nbformat_minor": 2
}
